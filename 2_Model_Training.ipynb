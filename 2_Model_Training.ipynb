{
 "cells": [
  {
   "cell_type": "markdown",
   "id": "8b8abcef",
   "metadata": {},
   "source": [
    "## Basic Training"
   ]
  },
  {
   "cell_type": "code",
   "execution_count": 94,
   "id": "OzQjTwlkUT0C",
   "metadata": {
    "executionInfo": {
     "elapsed": 2252,
     "status": "ok",
     "timestamp": 1670194396248,
     "user": {
      "displayName": "Jose Luis",
      "userId": "17952480099147442429"
     },
     "user_tz": 180
    },
    "id": "OzQjTwlkUT0C"
   },
   "outputs": [],
   "source": [
    "# Import libraries\n",
    "from sklearn.linear_model import LogisticRegression\n",
    "from sklearn.metrics import roc_auc_score\n",
    "from sklearn.ensemble import RandomForestClassifier\n",
    "from sklearn.metrics import confusion_matrix, accuracy_score, f1_score, precision_score, recall_score, classification_report\n",
    "\n",
    "import numpy as np\n",
    "import pandas as pd"
   ]
  },
  {
   "cell_type": "code",
   "execution_count": 95,
   "id": "c542cd1f",
   "metadata": {},
   "outputs": [],
   "source": [
    "hmhas = pd.read_csv('dataset/h_mas_train.csv')"
   ]
  },
  {
   "cell_type": "code",
   "execution_count": 96,
   "id": "f92b60a6",
   "metadata": {},
   "outputs": [],
   "source": [
    "# Drop Index\n",
    "\n",
    "hmhas = hmhas.drop('Unnamed: 0', axis=1)"
   ]
  },
  {
   "cell_type": "code",
   "execution_count": 97,
   "id": "7f67eade",
   "metadata": {},
   "outputs": [
    {
     "data": {
      "text/plain": [
       "Index(['hosp1y', 'agey', 'ragender', 'momage', 'dadage', 'livsib', 'grchild',\n",
       "       'shlt', 'vscan', 'cholst', 'weight', 'height', 'bmi', 'mobila',\n",
       "       'grossa', 'adltot_m', 'walkra', 'walksa', 'push', 'lift', 'fallinj',\n",
       "       'hip_m', 'hrtatte', 'rxdiabi', 'rxhrtat', 'rxstrok', 'rxhibp',\n",
       "       'rxarthr', 'rxlung_m', 'cncrsurg'],\n",
       "      dtype='object')"
      ]
     },
     "execution_count": 97,
     "metadata": {},
     "output_type": "execute_result"
    }
   ],
   "source": [
    "hmhas.columns"
   ]
  },
  {
   "cell_type": "code",
   "execution_count": 123,
   "id": "5603f214",
   "metadata": {},
   "outputs": [
    {
     "name": "stdout",
     "output_type": "stream",
     "text": [
      "   hosp1y  Total\n",
      "0     0.0  84050\n",
      "1     1.0  11508\n"
     ]
    },
    {
     "data": {
      "text/plain": [
       "<AxesSubplot: xlabel='Total', ylabel='hosp1y'>"
      ]
     },
     "execution_count": 123,
     "metadata": {},
     "output_type": "execute_result"
    },
    {
     "data": {
      "image/png": "[encoded data removed]",
      "text/plain": [
       "<Figure size 640x480 with 1 Axes>"
      ]
     },
     "metadata": {},
     "output_type": "display_data"
    }
   ],
   "source": [
    "# Evaluate The Target Variable\n",
    "\n",
    "import seaborn as sns\n",
    "import matplotlib.pyplot as plt\n",
    "\n",
    "df = hmhas\n",
    "\n",
    "df_target = df.groupby(['hosp1y']).size().to_frame('Total').reset_index('hosp1y')\n",
    "\n",
    "print(df_target)\n",
    "\n",
    "sns.barplot(x='Total', y='hosp1y', hue=df_target.index, data=df_target)\n"
   ]
  },
  {
   "cell_type": "code",
   "execution_count": 99,
   "id": "f90c6f07",
   "metadata": {},
   "outputs": [
    {
     "data": {
      "text/plain": [
       "(95558, 30)"
      ]
     },
     "execution_count": 99,
     "metadata": {},
     "output_type": "execute_result"
    }
   ],
   "source": [
    "hmhas.shape"
   ]
  },
  {
   "cell_type": "markdown",
   "id": "4855bcfe",
   "metadata": {},
   "source": [
    "# Preprocessing"
   ]
  },
  {
   "cell_type": "code",
   "execution_count": 101,
   "id": "3ee7a00d",
   "metadata": {},
   "outputs": [],
   "source": [
    "df = hmhas\n",
    "\n",
    "from sklearn.model_selection import train_test_split\n",
    "\n",
    "X_train = df.drop(\"hosp1y\", axis=1)\n",
    "\n",
    "# Assign the 'target' column to y_train\n",
    "\n",
    "y_train = df[\"hosp1y\"]\n",
    "\n",
    "# Remove the 'target' column for test\n",
    "X_test = df.drop(\"hosp1y\", axis=1)\n",
    "\n",
    "# Assign the 'target' column to y_test\n",
    "y_test = df[\"hosp1y\"]\n",
    "\n",
    "# separate dataset into train and test\n",
    "X_train, X_val, y_train, y_val = train_test_split(X_train, y_train, test_size=0.2, random_state=42, shuffle=True)\n"
   ]
  },
  {
   "cell_type": "code",
   "execution_count": 102,
   "id": "9be4cbac",
   "metadata": {},
   "outputs": [],
   "source": [
    "# Drop Categorical :\n",
    "categorical_cols = X_train.select_dtypes(include=['object']).columns\n",
    "\n",
    "X_train = X_train.drop(categorical_cols, axis=1)\n",
    "X_test = X_test.drop(categorical_cols, axis=1)\n",
    "X_val = X_val.drop(categorical_cols, axis=1)"
   ]
  },
  {
   "cell_type": "code",
   "execution_count": 103,
   "id": "f6028913",
   "metadata": {},
   "outputs": [],
   "source": [
    "from sklearn.impute import SimpleImputer\n",
    "from sklearn.preprocessing import StandardScaler\n",
    "\n",
    "# Impute values for all columns with missing data\n",
    "imp_mean = SimpleImputer(missing_values=np.nan, strategy='most_frequent')\n",
    "imp_mean.fit(X_train)\n",
    "\n",
    "n_train_df = imp_mean.transform(X_train)\n",
    "t_val_df = imp_mean.transform(X_val)\n",
    "t_test_df = imp_mean.transform(X_test)\n",
    "\n",
    "# Scaling all Numerical features\n",
    "\n",
    "scaler = StandardScaler()\n",
    "scaler = scaler.fit(n_train_df)\n",
    "\n",
    "t_train_df = scaler.transform(n_train_df)\n",
    "t_val_df = scaler.transform(t_val_df)\n",
    "t_test_df = scaler.transform(t_test_df)\n"
   ]
  },
  {
   "cell_type": "code",
   "execution_count": 17,
   "id": "87b66cd4",
   "metadata": {},
   "outputs": [
    {
     "name": "stdout",
     "output_type": "stream",
     "text": [
      "CPU times: total: 469 ms\n",
      "Wall time: 290 ms\n"
     ]
    },
    {
     "data": {
      "text/html": [
       "<style>#sk-container-id-1 {color: black;background-color: white;}#sk-container-id-1 pre{padding: 0;}#sk-container-id-1 div.sk-toggleable {background-color: white;}#sk-container-id-1 label.sk-toggleable__label {cursor: pointer;display: block;width: 100%;margin-bottom: 0;padding: 0.3em;box-sizing: border-box;text-align: center;}#sk-container-id-1 label.sk-toggleable__label-arrow:before {content: \"▸\";float: left;margin-right: 0.25em;color: #696969;}#sk-container-id-1 label.sk-toggleable__label-arrow:hover:before {color: black;}#sk-container-id-1 div.sk-estimator:hover label.sk-toggleable__label-arrow:before {color: black;}#sk-container-id-1 div.sk-toggleable__content {max-height: 0;max-width: 0;overflow: hidden;text-align: left;background-color: #f0f8ff;}#sk-container-id-1 div.sk-toggleable__content pre {margin: 0.2em;color: black;border-radius: 0.25em;background-color: #f0f8ff;}#sk-container-id-1 input.sk-toggleable__control:checked~div.sk-toggleable__content {max-height: 200px;max-width: 100%;overflow: auto;}#sk-container-id-1 input.sk-toggleable__control:checked~label.sk-toggleable__label-arrow:before {content: \"▾\";}#sk-container-id-1 div.sk-estimator input.sk-toggleable__control:checked~label.sk-toggleable__label {background-color: #d4ebff;}#sk-container-id-1 div.sk-label input.sk-toggleable__control:checked~label.sk-toggleable__label {background-color: #d4ebff;}#sk-container-id-1 input.sk-hidden--visually {border: 0;clip: rect(1px 1px 1px 1px);clip: rect(1px, 1px, 1px, 1px);height: 1px;margin: -1px;overflow: hidden;padding: 0;position: absolute;width: 1px;}#sk-container-id-1 div.sk-estimator {font-family: monospace;background-color: #f0f8ff;border: 1px dotted black;border-radius: 0.25em;box-sizing: border-box;margin-bottom: 0.5em;}#sk-container-id-1 div.sk-estimator:hover {background-color: #d4ebff;}#sk-container-id-1 div.sk-parallel-item::after {content: \"\";width: 100%;border-bottom: 1px solid gray;flex-grow: 1;}#sk-container-id-1 div.sk-label:hover label.sk-toggleable__label {background-color: #d4ebff;}#sk-container-id-1 div.sk-serial::before {content: \"\";position: absolute;border-left: 1px solid gray;box-sizing: border-box;top: 0;bottom: 0;left: 50%;z-index: 0;}#sk-container-id-1 div.sk-serial {display: flex;flex-direction: column;align-items: center;background-color: white;padding-right: 0.2em;padding-left: 0.2em;position: relative;}#sk-container-id-1 div.sk-item {position: relative;z-index: 1;}#sk-container-id-1 div.sk-parallel {display: flex;align-items: stretch;justify-content: center;background-color: white;position: relative;}#sk-container-id-1 div.sk-item::before, #sk-container-id-1 div.sk-parallel-item::before {content: \"\";position: absolute;border-left: 1px solid gray;box-sizing: border-box;top: 0;bottom: 0;left: 50%;z-index: -1;}#sk-container-id-1 div.sk-parallel-item {display: flex;flex-direction: column;z-index: 1;position: relative;background-color: white;}#sk-container-id-1 div.sk-parallel-item:first-child::after {align-self: flex-end;width: 50%;}#sk-container-id-1 div.sk-parallel-item:last-child::after {align-self: flex-start;width: 50%;}#sk-container-id-1 div.sk-parallel-item:only-child::after {width: 0;}#sk-container-id-1 div.sk-dashed-wrapped {border: 1px dashed gray;margin: 0 0.4em 0.5em 0.4em;box-sizing: border-box;padding-bottom: 0.4em;background-color: white;}#sk-container-id-1 div.sk-label label {font-family: monospace;font-weight: bold;display: inline-block;line-height: 1.2em;}#sk-container-id-1 div.sk-label-container {text-align: center;}#sk-container-id-1 div.sk-container {/* jupyter's `normalize.less` sets `[hidden] { display: none; }` but bootstrap.min.css set `[hidden] { display: none !important; }` so we also need the `!important` here to be able to override the default hidden behavior on the sphinx rendered scikit-learn.org. See: https://github.com/scikit-learn/scikit-learn/issues/21755 */display: inline-block !important;position: relative;}#sk-container-id-1 div.sk-text-repr-fallback {display: none;}</style><div id=\"sk-container-id-1\" class=\"sk-top-container\"><div class=\"sk-text-repr-fallback\"><pre>LogisticRegression(C=0.01)</pre><b>In a Jupyter environment, please rerun this cell to show the HTML representation or trust the notebook. <br />On GitHub, the HTML representation is unable to render, please try loading this page with nbviewer.org.</b></div><div class=\"sk-container\" hidden><div class=\"sk-item\"><div class=\"sk-estimator sk-toggleable\"><input class=\"sk-toggleable__control sk-hidden--visually\" id=\"sk-estimator-id-1\" type=\"checkbox\" checked><label for=\"sk-estimator-id-1\" class=\"sk-toggleable__label sk-toggleable__label-arrow\">LogisticRegression</label><div class=\"sk-toggleable__content\"><pre>LogisticRegression(C=0.01)</pre></div></div></div></div></div>"
      ],
      "text/plain": [
       "LogisticRegression(C=0.01)"
      ]
     },
     "execution_count": 17,
     "metadata": {},
     "output_type": "execute_result"
    }
   ],
   "source": [
    "%%time\n",
    "\n",
    "#   - Create and fit (train) a Logistic Regression\n",
    "\n",
    "log_reg = None\n",
    "log_reg = LogisticRegression(C=0.01)\n",
    "log_reg.fit(t_train_df, y_train)\n"
   ]
  },
  {
   "cell_type": "code",
   "execution_count": 18,
   "id": "9e30a1cd",
   "metadata": {},
   "outputs": [],
   "source": [
    "log_reg_train = log_reg.predict_proba(t_train_df)[:, 1]"
   ]
  },
  {
   "cell_type": "code",
   "execution_count": 19,
   "id": "ddba38a7",
   "metadata": {},
   "outputs": [
    {
     "name": "stdout",
     "output_type": "stream",
     "text": [
      "Train ROC AUC Score: 0.7385\n"
     ]
    }
   ],
   "source": [
    "roc_auc_train = roc_auc_score(y_true=y_train, y_score=log_reg_train)\n",
    "\n",
    "print(f\"Train ROC AUC Score: {roc_auc_train:.4f}\") "
   ]
  },
  {
   "cell_type": "markdown",
   "id": "3805b945",
   "metadata": {},
   "source": [
    "# Multiple Training"
   ]
  },
  {
   "cell_type": "code",
   "execution_count": 20,
   "id": "59b98ee5",
   "metadata": {},
   "outputs": [],
   "source": [
    "import lightgbm as lgb"
   ]
  },
  {
   "cell_type": "code",
   "execution_count": 21,
   "id": "c958d7b3",
   "metadata": {},
   "outputs": [
    {
     "name": "stdout",
     "output_type": "stream",
     "text": [
      "Logistic Regression trained.\n",
      "      Random Forest trained.\n",
      "[LightGBM] [Info] Number of positive: 9248, number of negative: 67198\n",
      "[LightGBM] [Warning] Auto-choosing row-wise multi-threading, the overhead of testing was 0.010970 seconds.\n",
      "You can set `force_row_wise=true` to remove the overhead.\n",
      "And if memory is not enough, you can set `force_col_wise=true`.\n",
      "[LightGBM] [Info] Total Bins 963\n",
      "[LightGBM] [Info] Number of data points in the train set: 76446, number of used features: 29\n",
      "[LightGBM] [Info] [binary:BoostFromScore]: pavg=0.120974 -> initscore=-1.983236\n",
      "[LightGBM] [Info] Start training from score -1.983236\n",
      "      LGBClassifier  trained.\n",
      "CPU times: total: 17.4 s\n",
      "Wall time: 17.3 s\n"
     ]
    }
   ],
   "source": [
    "%%time\n",
    "\n",
    "models = {\n",
    "    \"Logistic Regression\": LogisticRegression(C=0.001),\n",
    "    \"      Random Forest\": RandomForestClassifier(n_estimators=200, max_depth=10, random_state=42),\n",
    "    \"      LGBClassifier \": lgb.LGBMClassifier(learning_rate=0.2)\n",
    "}\n",
    "\n",
    "for name, model in models.items():\n",
    "    model.fit(t_train_df, y_train)\n",
    "    print(name + \" trained.\")"
   ]
  },
  {
   "cell_type": "markdown",
   "id": "d72804a3",
   "metadata": {},
   "source": [
    "# Results"
   ]
  },
  {
   "cell_type": "code",
   "execution_count": 22,
   "id": "c95e50a1",
   "metadata": {},
   "outputs": [
    {
     "name": "stdout",
     "output_type": "stream",
     "text": [
      "Logistic Regression Accuracy: 88.07%\n",
      "      Random Forest Accuracy: 89.06%\n",
      "      LGBClassifier  Accuracy: 89.84%\n"
     ]
    }
   ],
   "source": [
    "for name, model in models.items():\n",
    "    y_pred = model.predict(t_test_df)\n",
    "    acc = accuracy_score(y_test, y_pred)\n",
    "    print(name + \" Accuracy: {:.2f}%\".format(acc * 100))"
   ]
  },
  {
   "cell_type": "code",
   "execution_count": 23,
   "id": "bc5029a6",
   "metadata": {},
   "outputs": [
    {
     "name": "stdout",
     "output_type": "stream",
     "text": [
      "Logistic Regression F1-Score: 0.10753\n",
      "      Random Forest F1-Score: 0.17103\n",
      "      LGBClassifier  F1-Score: 0.30327\n"
     ]
    }
   ],
   "source": [
    "for name, model in models.items():\n",
    "    y_pred = model.predict(t_test_df)\n",
    "    f1 = f1_score(y_test, y_pred)\n",
    "    print(name + \" F1-Score: {:.5f}\".format(f1))"
   ]
  },
  {
   "cell_type": "markdown",
   "id": "e7221ff1",
   "metadata": {},
   "source": [
    "## Neural NetWork Training"
   ]
  },
  {
   "cell_type": "code",
   "execution_count": 104,
   "id": "d40c6018",
   "metadata": {},
   "outputs": [],
   "source": [
    "import tensorflow as tf\n",
    "from tensorflow import keras\n",
    "from tensorflow.keras.models import Sequential\n",
    "from tensorflow.keras.layers import Dense, Flatten"
   ]
  },
  {
   "cell_type": "code",
   "execution_count": 121,
   "id": "c9694a57",
   "metadata": {},
   "outputs": [],
   "source": [
    "from sklearn.utils.class_weight import compute_class_weight\n",
    "\n",
    "class_weights = compute_class_weight('balanced', classes=np.unique(y_train), y=y_train)\n",
    "class_weight_dict = {i: class_weights[i] for i in range(len(class_weights))}"
   ]
  },
  {
   "cell_type": "code",
   "execution_count": 122,
   "id": "ee853eac",
   "metadata": {},
   "outputs": [
    {
     "name": "stdout",
     "output_type": "stream",
     "text": [
      "Epoch 1/30\n",
      "2151/2151 [==============================] - 11s 5ms/step - loss: 0.6043 - accuracy: 0.6823 - val_loss: 0.6228 - val_accuracy: 0.6636\n",
      "Epoch 2/30\n",
      "2151/2151 [==============================] - 10s 4ms/step - loss: 0.5940 - accuracy: 0.6885 - val_loss: 0.5731 - val_accuracy: 0.7024\n",
      "Epoch 3/30\n",
      "2151/2151 [==============================] - 10s 5ms/step - loss: 0.5889 - accuracy: 0.6989 - val_loss: 0.6131 - val_accuracy: 0.6701\n",
      "Epoch 4/30\n",
      "2151/2151 [==============================] - 12s 5ms/step - loss: 0.5818 - accuracy: 0.7013 - val_loss: 0.5763 - val_accuracy: 0.6940\n",
      "Epoch 5/30\n",
      "2151/2151 [==============================] - 11s 5ms/step - loss: 0.5733 - accuracy: 0.7091 - val_loss: 0.5729 - val_accuracy: 0.7096\n",
      "Epoch 6/30\n",
      "2151/2151 [==============================] - 10s 5ms/step - loss: 0.5634 - accuracy: 0.7165 - val_loss: 0.5926 - val_accuracy: 0.7092\n",
      "Epoch 7/30\n",
      "2151/2151 [==============================] - 11s 5ms/step - loss: 0.5513 - accuracy: 0.7303 - val_loss: 0.5882 - val_accuracy: 0.7122\n",
      "Epoch 8/30\n",
      "2151/2151 [==============================] - 10s 5ms/step - loss: 0.5371 - accuracy: 0.7412 - val_loss: 0.5564 - val_accuracy: 0.7220\n",
      "Epoch 9/30\n",
      "2151/2151 [==============================] - 9s 4ms/step - loss: 0.5205 - accuracy: 0.7509 - val_loss: 0.5192 - val_accuracy: 0.7585\n",
      "Epoch 10/30\n",
      "2151/2151 [==============================] - 9s 4ms/step - loss: 0.5044 - accuracy: 0.7623 - val_loss: 0.5338 - val_accuracy: 0.7468\n",
      "Epoch 11/30\n",
      "2151/2151 [==============================] - 10s 4ms/step - loss: 0.4863 - accuracy: 0.7743 - val_loss: 0.5178 - val_accuracy: 0.7529\n",
      "Epoch 12/30\n",
      "2151/2151 [==============================] - 10s 4ms/step - loss: 0.4653 - accuracy: 0.7865 - val_loss: 0.4812 - val_accuracy: 0.7906\n",
      "Epoch 13/30\n",
      "2151/2151 [==============================] - 10s 5ms/step - loss: 0.4459 - accuracy: 0.7982 - val_loss: 0.5241 - val_accuracy: 0.7592\n",
      "Epoch 14/30\n",
      "2151/2151 [==============================] - 10s 4ms/step - loss: 0.4245 - accuracy: 0.8114 - val_loss: 0.5242 - val_accuracy: 0.7601\n",
      "Epoch 15/30\n",
      "2151/2151 [==============================] - 9s 4ms/step - loss: 0.4046 - accuracy: 0.8215 - val_loss: 0.4577 - val_accuracy: 0.8084\n",
      "Epoch 16/30\n",
      "2151/2151 [==============================] - 10s 5ms/step - loss: 0.3822 - accuracy: 0.8350 - val_loss: 0.4766 - val_accuracy: 0.7899\n",
      "Epoch 17/30\n",
      "2151/2151 [==============================] - 10s 4ms/step - loss: 0.3630 - accuracy: 0.8442 - val_loss: 0.4895 - val_accuracy: 0.7874\n",
      "Epoch 18/30\n",
      "2151/2151 [==============================] - 8s 4ms/step - loss: 0.3455 - accuracy: 0.8537 - val_loss: 0.5694 - val_accuracy: 0.7504\n",
      "Epoch 19/30\n",
      "2151/2151 [==============================] - 10s 5ms/step - loss: 0.3249 - accuracy: 0.8622 - val_loss: 0.4817 - val_accuracy: 0.7991\n",
      "Epoch 20/30\n",
      "2151/2151 [==============================] - 8s 4ms/step - loss: 0.3065 - accuracy: 0.8715 - val_loss: 0.4733 - val_accuracy: 0.8018\n",
      "Epoch 21/30\n",
      "2151/2151 [==============================] - 8s 4ms/step - loss: 0.2897 - accuracy: 0.8795 - val_loss: 0.4778 - val_accuracy: 0.8137\n",
      "Epoch 22/30\n",
      "2151/2151 [==============================] - 8s 4ms/step - loss: 0.2754 - accuracy: 0.8857 - val_loss: 0.5549 - val_accuracy: 0.7736\n",
      "Epoch 23/30\n",
      "2151/2151 [==============================] - 8s 4ms/step - loss: 0.2576 - accuracy: 0.8938 - val_loss: 0.5027 - val_accuracy: 0.8017\n",
      "Epoch 24/30\n",
      "2151/2151 [==============================] - 10s 4ms/step - loss: 0.2424 - accuracy: 0.9007 - val_loss: 0.4860 - val_accuracy: 0.8195\n",
      "Epoch 25/30\n",
      "2151/2151 [==============================] - 10s 5ms/step - loss: 0.2288 - accuracy: 0.9073 - val_loss: 0.5475 - val_accuracy: 0.7863\n",
      "Epoch 26/30\n",
      "2151/2151 [==============================] - 11s 5ms/step - loss: 0.2164 - accuracy: 0.9122 - val_loss: 0.4458 - val_accuracy: 0.8412\n",
      "Epoch 27/30\n",
      "2151/2151 [==============================] - 10s 5ms/step - loss: 0.2025 - accuracy: 0.9189 - val_loss: 0.5238 - val_accuracy: 0.8107\n",
      "Epoch 28/30\n",
      "2151/2151 [==============================] - 10s 4ms/step - loss: 0.1899 - accuracy: 0.9231 - val_loss: 0.4529 - val_accuracy: 0.8515\n",
      "Epoch 29/30\n",
      "2151/2151 [==============================] - 10s 5ms/step - loss: 0.1790 - accuracy: 0.9282 - val_loss: 0.5240 - val_accuracy: 0.8192\n",
      "Epoch 30/30\n",
      "2151/2151 [==============================] - 6s 3ms/step - loss: 0.1724 - accuracy: 0.9302 - val_loss: 0.4922 - val_accuracy: 0.8424\n"
     ]
    }
   ],
   "source": [
    "model = Sequential()\n",
    "\n",
    "model.add(Flatten())\n",
    "\n",
    "model.add(Dense(512, activation='relu', input_dim=X_train.shape[1]))\n",
    "model.add(Dense(256, activation='relu'))\n",
    "model.add(Dense(1, activation='sigmoid'))\n",
    "\n",
    "# Compile the model\n",
    "model.compile(loss='binary_crossentropy', optimizer=keras.optimizers.Adam(learning_rate=5e-4), metrics=['accuracy'])    \n",
    "\n",
    "epochs = 30\n",
    "batch_size = 32\n",
    "\n",
    "my_callbacks = [\n",
    "    tf.keras.callbacks.ModelCheckpoint(filepath='model.{epoch:02d}-{accuracy:.3f}.h5', save_best_only=True),\n",
    "]\n",
    "\n",
    "model.fit(t_train_df, y_train, class_weight=class_weight_dict, epochs=epochs, batch_size=batch_size, validation_split=0.1, callbacks=my_callbacks)\n",
    "\n",
    "mlp = model\n",
    "\n",
    "# Send the input data through the trained model to get the predictions\n",
    "predictions = mlp.predict(t_test_df)"
   ]
  },
  {
   "cell_type": "code",
   "execution_count": 124,
   "id": "c80d5de3",
   "metadata": {},
   "outputs": [
    {
     "name": "stdout",
     "output_type": "stream",
     "text": [
      "Model: \"sequential\"\n",
      "_________________________________________________________________\n",
      " Layer (type)                Output Shape              Param #   \n",
      "=================================================================\n",
      " flatten (Flatten)           (None, 29)                0         \n",
      "                                                                 \n",
      " dense (Dense)               (None, 512)               15360     \n",
      "                                                                 \n",
      " dense_1 (Dense)             (None, 256)               131328    \n",
      "                                                                 \n",
      " dense_2 (Dense)             (None, 1)                 257       \n",
      "                                                                 \n",
      "=================================================================\n",
      "Total params: 146,945\n",
      "Trainable params: 146,945\n",
      "Non-trainable params: 0\n",
      "_________________________________________________________________\n"
     ]
    }
   ],
   "source": [
    "mlp.summary()"
   ]
  },
  {
   "cell_type": "code",
   "execution_count": 125,
   "id": "4dd13d5f",
   "metadata": {},
   "outputs": [
    {
     "data": {
      "text/plain": [
       "array([[0.28810334],\n",
       "       [0.00237069],\n",
       "       [0.00613692],\n",
       "       ...,\n",
       "       [0.00152194],\n",
       "       [0.4525897 ],\n",
       "       [0.16670606]], dtype=float32)"
      ]
     },
     "execution_count": 125,
     "metadata": {},
     "output_type": "execute_result"
    }
   ],
   "source": [
    "predictions"
   ]
  },
  {
   "cell_type": "markdown",
   "id": "493d0fd3",
   "metadata": {},
   "source": [
    "## Classification Report"
   ]
  },
  {
   "cell_type": "code",
   "execution_count": 126,
   "id": "82e6322c",
   "metadata": {},
   "outputs": [
    {
     "name": "stdout",
     "output_type": "stream",
     "text": [
      "              precision    recall  f1-score   support\n",
      "\n",
      "         0.0       0.98      0.92      0.95     84050\n",
      "         1.0       0.58      0.87      0.70     11508\n",
      "\n",
      "    accuracy                           0.91     95558\n",
      "   macro avg       0.78      0.89      0.82     95558\n",
      "weighted avg       0.93      0.91      0.92     95558\n",
      "\n"
     ]
    }
   ],
   "source": [
    "# Extract the probabilities\n",
    "\n",
    "p_pred = predictions.flatten()\n",
    "\n",
    "# Extract the Class labels\n",
    "y_pred = np.where(p_pred > 0.5, 1, 0)\n",
    "\n",
    "print(classification_report(y_test, y_pred))\n"
   ]
  },
  {
   "cell_type": "markdown",
   "id": "feb2b75a",
   "metadata": {},
   "source": [
    "## Confusion Matrix"
   ]
  },
  {
   "cell_type": "code",
   "execution_count": 127,
   "id": "45781ab1",
   "metadata": {},
   "outputs": [
    {
     "data": {
      "image/png": "[encoded data removed]",
      "text/plain": [
       "<Figure size 640x480 with 2 Axes>"
      ]
     },
     "metadata": {},
     "output_type": "display_data"
    }
   ],
   "source": [
    "import seaborn as sns\n",
    "import matplotlib.pyplot as plt\n",
    "from sklearn.metrics import confusion_matrix\n",
    "\n",
    "matc=confusion_matrix(y_test, y_pred)\n",
    "\n",
    "ax = sns.heatmap(matc, annot=True, fmt='g')\n",
    "\n",
    "ax.set_title('Confusion Matrix!')\n",
    "ax.set_xlabel('Predicted Hospitalized')\n",
    "ax.set_ylabel('Actual Hospitalized')\n",
    "\n",
    "# Plot the confusion matrix\n",
    "\n",
    "plt.show()"
   ]
  },
  {
   "cell_type": "code",
   "execution_count": 128,
   "id": "7203137d",
   "metadata": {},
   "outputs": [
    {
     "name": "stdout",
     "output_type": "stream",
     "text": [
      "Train ROC AUC Score: 0.9379\n"
     ]
    }
   ],
   "source": [
    "roc_auc_train = roc_auc_score(y_true=y_test, y_score=predictions)\n",
    "\n",
    "print(f\"Train ROC AUC Score: {roc_auc_train:.4f}\") "
   ]
  },
  {
   "cell_type": "markdown",
   "id": "80637f76",
   "metadata": {},
   "source": [
    "## Model Test"
   ]
  },
  {
   "cell_type": "code",
   "execution_count": 135,
   "id": "31cce933",
   "metadata": {},
   "outputs": [],
   "source": [
    "# Assuming The Model Saved Has this name, Load For Predictions\n",
    "\n",
    "model = keras.models.load_model('model.26-0.912.h5')"
   ]
  },
  {
   "cell_type": "code",
   "execution_count": 136,
   "id": "65e576cf",
   "metadata": {},
   "outputs": [
    {
     "data": {
      "text/plain": [
       "array([[0.28810334],\n",
       "       [0.00237069],\n",
       "       [0.00613692],\n",
       "       ...,\n",
       "       [0.00152194],\n",
       "       [0.4525897 ],\n",
       "       [0.16670606]], dtype=float32)"
      ]
     },
     "execution_count": 136,
     "metadata": {},
     "output_type": "execute_result"
    }
   ],
   "source": [
    "predictions"
   ]
  },
  {
   "cell_type": "code",
   "execution_count": 137,
   "id": "5d5b2a22",
   "metadata": {},
   "outputs": [
    {
     "data": {
      "text/plain": [
       "['scaler.pkl']"
      ]
     },
     "execution_count": 137,
     "metadata": {},
     "output_type": "execute_result"
    }
   ],
   "source": [
    "import joblib\n",
    "\n",
    "# Save the scaler parameters to a file\n",
    "joblib.dump(scaler, 'scaler.pkl')"
   ]
  },
  {
   "cell_type": "code",
   "execution_count": 138,
   "id": "8d1b0d1a",
   "metadata": {},
   "outputs": [],
   "source": [
    "# Load the scaler from the file\n",
    "loaded_scaler = joblib.load('scaler.pkl')"
   ]
  },
  {
   "cell_type": "code",
   "execution_count": 143,
   "id": "4d33cbc8",
   "metadata": {},
   "outputs": [
    {
     "data": {
      "text/plain": [
       "29"
      ]
     },
     "execution_count": 143,
     "metadata": {},
     "output_type": "execute_result"
    }
   ],
   "source": [
    "import numpy as np\n",
    "\n",
    "input_data = [50,1,60,60,2,5,\n",
    "              1,50,0,60,1.5,24,\n",
    "              4,4,5,1,1,5,5,\n",
    "              0,0,\n",
    "              0,0,1,0,1,0,1,1]\n",
    "\n",
    "input_data = np.expand_dims(input_data, axis=0)  # Adding an extra dimension for batch size\n",
    "\n",
    "# Transform new data using the loaded scaler\n",
    "scaled_new_data = loaded_scaler.transform(input_data)\n",
    "\n",
    "len(scaled_new_data[0]) \n"
   ]
  },
  {
   "cell_type": "code",
   "execution_count": 146,
   "id": "c4ee4ab5",
   "metadata": {},
   "outputs": [
    {
     "name": "stdout",
     "output_type": "stream",
     "text": [
      "[[0.92299545]]\n"
     ]
    }
   ],
   "source": [
    "pred_probability = model.predict(scaled_new_data)\n",
    "\n",
    "print(pred_probability)"
   ]
  },
  {
   "cell_type": "code",
   "execution_count": 147,
   "id": "fada3074",
   "metadata": {},
   "outputs": [],
   "source": [
    "threshold = 0.9\n",
    "if pred_probability >= threshold:\n",
    "    prediction = \"This person needs to be hospitalized next year.\"\n",
    "else:\n",
    "    prediction = \"This person does not need to be hospitalized\"\n",
    "\n",
    "score = (pred_probability*100)\n"
   ]
  },
  {
   "cell_type": "code",
   "execution_count": 148,
   "id": "dbbc5afa",
   "metadata": {},
   "outputs": [
    {
     "name": "stdout",
     "output_type": "stream",
     "text": [
      "This person needs to be hospitalized next year.\n",
      "Score is 92.3\n"
     ]
    }
   ],
   "source": [
    "print(prediction)\n",
    "\n",
    "score = np.around(score, 2)\n",
    "\n",
    "s = str(score)\n",
    "chars = [']', '['] \n",
    "result = s.translate(str.maketrans('', '', ''.join(chars)))\n",
    "print('Score is '+result)    "
   ]
  }
 ],
 "metadata": {
  "colab": {
   "provenance": []
  },
  "kernelspec": {
   "display_name": ".venv",
   "language": "python",
   "name": "python3"
  },
  "language_info": {
   "codemirror_mode": {
    "name": "ipython",
    "version": 3
   },
   "file_extension": ".py",
   "mimetype": "text/x-python",
   "name": "python",
   "nbconvert_exporter": "python",
   "pygments_lexer": "ipython3",
   "version": "3.10.5"
  }
 },
 "nbformat": 4,
 "nbformat_minor": 5
}

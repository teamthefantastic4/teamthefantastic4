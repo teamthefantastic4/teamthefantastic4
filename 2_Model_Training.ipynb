{
 "cells": [
  {
   "cell_type": "markdown",
   "id": "8b8abcef",
   "metadata": {},
   "source": [
    "## Basic Training"
   ]
  },
  {
   "cell_type": "code",
   "execution_count": 1,
   "id": "OzQjTwlkUT0C",
   "metadata": {
    "executionInfo": {
     "elapsed": 2252,
     "status": "ok",
     "timestamp": 1670194396248,
     "user": {
      "displayName": "Jose Luis",
      "userId": "17952480099147442429"
     },
     "user_tz": 180
    },
    "id": "OzQjTwlkUT0C"
   },
   "outputs": [],
   "source": [
    "# Import libraries\n",
    "from sklearn.linear_model import LogisticRegression\n",
    "from sklearn.metrics import roc_auc_score\n",
    "from sklearn.ensemble import RandomForestClassifier\n",
    "from sklearn.metrics import confusion_matrix, accuracy_score, f1_score, precision_score, recall_score, classification_report\n",
    "\n",
    "import numpy as np\n",
    "import pandas as pd"
   ]
  },
  {
   "cell_type": "code",
   "execution_count": 8,
   "id": "c542cd1f",
   "metadata": {},
   "outputs": [],
   "source": [
    "hmhas = pd.read_csv('dataset/h_mas_train.csv')"
   ]
  },
  {
   "cell_type": "code",
   "execution_count": 9,
   "id": "f92b60a6",
   "metadata": {},
   "outputs": [],
   "source": [
    "# Drop Index\n",
    "\n",
    "hmhas = hmhas.drop('Unnamed: 0', axis=1)"
   ]
  },
  {
   "cell_type": "code",
   "execution_count": 10,
   "id": "7f67eade",
   "metadata": {},
   "outputs": [
    {
     "data": {
      "text/plain": [
       "Index(['hosp1y', 'agey', 'ragender', 'momage', 'dadage', 'livsib', 'grchild',\n",
       "       'shlt', 'vscan', 'cholst', 'weight', 'height', 'bmi', 'mobila',\n",
       "       'grossa', 'adltot_m', 'walkra', 'walksa', 'push', 'lift', 'fallinj',\n",
       "       'hip_m', 'hrtatte', 'rxdiabi', 'rxhrtat', 'rxstrok', 'rxhibp',\n",
       "       'rxarthr', 'rxlung_m', 'cncrsurg'],\n",
       "      dtype='object')"
      ]
     },
     "execution_count": 10,
     "metadata": {},
     "output_type": "execute_result"
    }
   ],
   "source": [
    "hmhas.columns"
   ]
  },
  {
   "cell_type": "code",
   "execution_count": 12,
   "id": "5603f214",
   "metadata": {},
   "outputs": [
    {
     "name": "stdout",
     "output_type": "stream",
     "text": [
      "   hosp1y  Total\n",
      "0     0.0  84050\n",
      "1     1.0  11508\n"
     ]
    },
    {
     "data": {
      "text/plain": [
       "<AxesSubplot: xlabel='Total', ylabel='hosp1y'>"
      ]
     },
     "execution_count": 12,
     "metadata": {},
     "output_type": "execute_result"
    },
    {
     "data": {
      "image/png": "[encoded data removed]",
      "text/plain": [
       "<Figure size 640x480 with 1 Axes>"
      ]
     },
     "metadata": {},
     "output_type": "display_data"
    }
   ],
   "source": [
    "# Evaluate The Target Variable\n",
    "\n",
    "import seaborn as sns\n",
    "import matplotlib.pyplot as plt\n",
    "\n",
    "df = hmhas\n",
    "\n",
    "df_target = df.groupby(['hosp1y']).size().to_frame('Total').reset_index('hosp1y')\n",
    "\n",
    "print(df_target)\n",
    "\n",
    "sns.barplot(x='Total', y='hosp1y', hue=df_target.index, data=df_target)\n"
   ]
  },
  {
   "cell_type": "code",
   "execution_count": 13,
   "id": "f90c6f07",
   "metadata": {},
   "outputs": [
    {
     "data": {
      "text/plain": [
       "(95558, 30)"
      ]
     },
     "execution_count": 13,
     "metadata": {},
     "output_type": "execute_result"
    }
   ],
   "source": [
    "hmhas.shape"
   ]
  },
  {
   "cell_type": "markdown",
   "id": "4855bcfe",
   "metadata": {},
   "source": [
    "# Preprocessing"
   ]
  },
  {
   "cell_type": "code",
   "execution_count": 14,
   "id": "3ee7a00d",
   "metadata": {},
   "outputs": [],
   "source": [
    "df = hmhas\n",
    "\n",
    "from sklearn.model_selection import train_test_split\n",
    "\n",
    "X_train = df.drop(\"hosp1y\", axis=1)\n",
    "\n",
    "# Assign the 'target' column to y_train\n",
    "\n",
    "y_train = df[\"hosp1y\"]\n",
    "\n",
    "# Remove the 'target' column for test\n",
    "X_test = df.drop(\"hosp1y\", axis=1)\n",
    "\n",
    "# Assign the 'target' column to y_test\n",
    "y_test = df[\"hosp1y\"]\n",
    "\n",
    "# separate dataset into train and test\n",
    "X_train, X_val, y_train, y_val = train_test_split(X_train, y_train, test_size=0.2, random_state=42, shuffle=True)\n"
   ]
  },
  {
   "cell_type": "code",
   "execution_count": 15,
   "id": "9be4cbac",
   "metadata": {},
   "outputs": [],
   "source": [
    "# Drop Categorical :\n",
    "categorical_cols = X_train.select_dtypes(include=['object']).columns\n",
    "\n",
    "X_train = X_train.drop(categorical_cols, axis=1)\n",
    "X_test = X_test.drop(categorical_cols, axis=1)\n",
    "X_val = X_val.drop(categorical_cols, axis=1)"
   ]
  },
  {
   "cell_type": "code",
   "execution_count": 16,
   "id": "f6028913",
   "metadata": {},
   "outputs": [],
   "source": [
    "from sklearn.impute import SimpleImputer\n",
    "from sklearn.preprocessing import StandardScaler\n",
    "\n",
    "# Impute values for all columns with missing data\n",
    "imp_mean = SimpleImputer(missing_values=np.nan, strategy='most_frequent')\n",
    "imp_mean.fit(X_train)\n",
    "\n",
    "n_train_df = imp_mean.transform(X_train)\n",
    "t_val_df = imp_mean.transform(X_val)\n",
    "t_test_df = imp_mean.transform(X_test)\n",
    "\n",
    "# Scaling all Numerical features\n",
    "\n",
    "scaler = StandardScaler()\n",
    "scaler = scaler.fit(n_train_df)\n",
    "\n",
    "t_train_df = scaler.transform(n_train_df)\n",
    "t_val_df = scaler.transform(t_val_df)\n",
    "t_test_df = scaler.transform(t_test_df)\n"
   ]
  },
  {
   "cell_type": "code",
   "execution_count": 17,
   "id": "87b66cd4",
   "metadata": {},
   "outputs": [
    {
     "name": "stdout",
     "output_type": "stream",
     "text": [
      "CPU times: total: 469 ms\n",
      "Wall time: 290 ms\n"
     ]
    },
    {
     "data": {
      "text/html": [
       "<style>#sk-container-id-1 {color: black;background-color: white;}#sk-container-id-1 pre{padding: 0;}#sk-container-id-1 div.sk-toggleable {background-color: white;}#sk-container-id-1 label.sk-toggleable__label {cursor: pointer;display: block;width: 100%;margin-bottom: 0;padding: 0.3em;box-sizing: border-box;text-align: center;}#sk-container-id-1 label.sk-toggleable__label-arrow:before {content: \"▸\";float: left;margin-right: 0.25em;color: #696969;}#sk-container-id-1 label.sk-toggleable__label-arrow:hover:before {color: black;}#sk-container-id-1 div.sk-estimator:hover label.sk-toggleable__label-arrow:before {color: black;}#sk-container-id-1 div.sk-toggleable__content {max-height: 0;max-width: 0;overflow: hidden;text-align: left;background-color: #f0f8ff;}#sk-container-id-1 div.sk-toggleable__content pre {margin: 0.2em;color: black;border-radius: 0.25em;background-color: #f0f8ff;}#sk-container-id-1 input.sk-toggleable__control:checked~div.sk-toggleable__content {max-height: 200px;max-width: 100%;overflow: auto;}#sk-container-id-1 input.sk-toggleable__control:checked~label.sk-toggleable__label-arrow:before {content: \"▾\";}#sk-container-id-1 div.sk-estimator input.sk-toggleable__control:checked~label.sk-toggleable__label {background-color: #d4ebff;}#sk-container-id-1 div.sk-label input.sk-toggleable__control:checked~label.sk-toggleable__label {background-color: #d4ebff;}#sk-container-id-1 input.sk-hidden--visually {border: 0;clip: rect(1px 1px 1px 1px);clip: rect(1px, 1px, 1px, 1px);height: 1px;margin: -1px;overflow: hidden;padding: 0;position: absolute;width: 1px;}#sk-container-id-1 div.sk-estimator {font-family: monospace;background-color: #f0f8ff;border: 1px dotted black;border-radius: 0.25em;box-sizing: border-box;margin-bottom: 0.5em;}#sk-container-id-1 div.sk-estimator:hover {background-color: #d4ebff;}#sk-container-id-1 div.sk-parallel-item::after {content: \"\";width: 100%;border-bottom: 1px solid gray;flex-grow: 1;}#sk-container-id-1 div.sk-label:hover label.sk-toggleable__label {background-color: #d4ebff;}#sk-container-id-1 div.sk-serial::before {content: \"\";position: absolute;border-left: 1px solid gray;box-sizing: border-box;top: 0;bottom: 0;left: 50%;z-index: 0;}#sk-container-id-1 div.sk-serial {display: flex;flex-direction: column;align-items: center;background-color: white;padding-right: 0.2em;padding-left: 0.2em;position: relative;}#sk-container-id-1 div.sk-item {position: relative;z-index: 1;}#sk-container-id-1 div.sk-parallel {display: flex;align-items: stretch;justify-content: center;background-color: white;position: relative;}#sk-container-id-1 div.sk-item::before, #sk-container-id-1 div.sk-parallel-item::before {content: \"\";position: absolute;border-left: 1px solid gray;box-sizing: border-box;top: 0;bottom: 0;left: 50%;z-index: -1;}#sk-container-id-1 div.sk-parallel-item {display: flex;flex-direction: column;z-index: 1;position: relative;background-color: white;}#sk-container-id-1 div.sk-parallel-item:first-child::after {align-self: flex-end;width: 50%;}#sk-container-id-1 div.sk-parallel-item:last-child::after {align-self: flex-start;width: 50%;}#sk-container-id-1 div.sk-parallel-item:only-child::after {width: 0;}#sk-container-id-1 div.sk-dashed-wrapped {border: 1px dashed gray;margin: 0 0.4em 0.5em 0.4em;box-sizing: border-box;padding-bottom: 0.4em;background-color: white;}#sk-container-id-1 div.sk-label label {font-family: monospace;font-weight: bold;display: inline-block;line-height: 1.2em;}#sk-container-id-1 div.sk-label-container {text-align: center;}#sk-container-id-1 div.sk-container {/* jupyter's `normalize.less` sets `[hidden] { display: none; }` but bootstrap.min.css set `[hidden] { display: none !important; }` so we also need the `!important` here to be able to override the default hidden behavior on the sphinx rendered scikit-learn.org. See: https://github.com/scikit-learn/scikit-learn/issues/21755 */display: inline-block !important;position: relative;}#sk-container-id-1 div.sk-text-repr-fallback {display: none;}</style><div id=\"sk-container-id-1\" class=\"sk-top-container\"><div class=\"sk-text-repr-fallback\"><pre>LogisticRegression(C=0.01)</pre><b>In a Jupyter environment, please rerun this cell to show the HTML representation or trust the notebook. <br />On GitHub, the HTML representation is unable to render, please try loading this page with nbviewer.org.</b></div><div class=\"sk-container\" hidden><div class=\"sk-item\"><div class=\"sk-estimator sk-toggleable\"><input class=\"sk-toggleable__control sk-hidden--visually\" id=\"sk-estimator-id-1\" type=\"checkbox\" checked><label for=\"sk-estimator-id-1\" class=\"sk-toggleable__label sk-toggleable__label-arrow\">LogisticRegression</label><div class=\"sk-toggleable__content\"><pre>LogisticRegression(C=0.01)</pre></div></div></div></div></div>"
      ],
      "text/plain": [
       "LogisticRegression(C=0.01)"
      ]
     },
     "execution_count": 17,
     "metadata": {},
     "output_type": "execute_result"
    }
   ],
   "source": [
    "%%time\n",
    "\n",
    "#   - Create and fit (train) a Logistic Regression\n",
    "\n",
    "log_reg = None\n",
    "log_reg = LogisticRegression(C=0.01)\n",
    "log_reg.fit(t_train_df, y_train)\n"
   ]
  },
  {
   "cell_type": "code",
   "execution_count": 18,
   "id": "9e30a1cd",
   "metadata": {},
   "outputs": [],
   "source": [
    "log_reg_train = log_reg.predict_proba(t_train_df)[:, 1]"
   ]
  },
  {
   "cell_type": "code",
   "execution_count": 19,
   "id": "ddba38a7",
   "metadata": {},
   "outputs": [
    {
     "name": "stdout",
     "output_type": "stream",
     "text": [
      "Train ROC AUC Score: 0.7385\n"
     ]
    }
   ],
   "source": [
    "roc_auc_train = roc_auc_score(y_true=y_train, y_score=log_reg_train)\n",
    "\n",
    "print(f\"Train ROC AUC Score: {roc_auc_train:.4f}\") "
   ]
  },
  {
   "cell_type": "markdown",
   "id": "3805b945",
   "metadata": {},
   "source": [
    "# Multiple Training"
   ]
  },
  {
   "cell_type": "code",
   "execution_count": 20,
   "id": "59b98ee5",
   "metadata": {},
   "outputs": [],
   "source": [
    "import lightgbm as lgb"
   ]
  },
  {
   "cell_type": "code",
   "execution_count": 21,
   "id": "c958d7b3",
   "metadata": {},
   "outputs": [
    {
     "name": "stdout",
     "output_type": "stream",
     "text": [
      "Logistic Regression trained.\n",
      "      Random Forest trained.\n",
      "[LightGBM] [Info] Number of positive: 9248, number of negative: 67198\n",
      "[LightGBM] [Warning] Auto-choosing row-wise multi-threading, the overhead of testing was 0.010970 seconds.\n",
      "You can set `force_row_wise=true` to remove the overhead.\n",
      "And if memory is not enough, you can set `force_col_wise=true`.\n",
      "[LightGBM] [Info] Total Bins 963\n",
      "[LightGBM] [Info] Number of data points in the train set: 76446, number of used features: 29\n",
      "[LightGBM] [Info] [binary:BoostFromScore]: pavg=0.120974 -> initscore=-1.983236\n",
      "[LightGBM] [Info] Start training from score -1.983236\n",
      "      LGBClassifier  trained.\n",
      "CPU times: total: 17.4 s\n",
      "Wall time: 17.3 s\n"
     ]
    }
   ],
   "source": [
    "%%time\n",
    "\n",
    "models = {\n",
    "    \"Logistic Regression\": LogisticRegression(C=0.001),\n",
    "    \"      Random Forest\": RandomForestClassifier(n_estimators=200, max_depth=10, random_state=42),\n",
    "    \"      LGBClassifier \": lgb.LGBMClassifier(learning_rate=0.2)\n",
    "}\n",
    "\n",
    "for name, model in models.items():\n",
    "    model.fit(t_train_df, y_train)\n",
    "    print(name + \" trained.\")"
   ]
  },
  {
   "cell_type": "markdown",
   "id": "d72804a3",
   "metadata": {},
   "source": [
    "# Results"
   ]
  },
  {
   "cell_type": "code",
   "execution_count": 22,
   "id": "c95e50a1",
   "metadata": {},
   "outputs": [
    {
     "name": "stdout",
     "output_type": "stream",
     "text": [
      "Logistic Regression Accuracy: 88.07%\n",
      "      Random Forest Accuracy: 89.06%\n",
      "      LGBClassifier  Accuracy: 89.84%\n"
     ]
    }
   ],
   "source": [
    "for name, model in models.items():\n",
    "    y_pred = model.predict(t_test_df)\n",
    "    acc = accuracy_score(y_test, y_pred)\n",
    "    print(name + \" Accuracy: {:.2f}%\".format(acc * 100))"
   ]
  },
  {
   "cell_type": "code",
   "execution_count": 23,
   "id": "bc5029a6",
   "metadata": {},
   "outputs": [
    {
     "name": "stdout",
     "output_type": "stream",
     "text": [
      "Logistic Regression F1-Score: 0.10753\n",
      "      Random Forest F1-Score: 0.17103\n",
      "      LGBClassifier  F1-Score: 0.30327\n"
     ]
    }
   ],
   "source": [
    "for name, model in models.items():\n",
    "    y_pred = model.predict(t_test_df)\n",
    "    f1 = f1_score(y_test, y_pred)\n",
    "    print(name + \" F1-Score: {:.5f}\".format(f1))"
   ]
  },
  {
   "cell_type": "markdown",
   "id": "e7221ff1",
   "metadata": {},
   "source": [
    "## Neural NetWork Training"
   ]
  },
  {
   "cell_type": "code",
   "execution_count": 24,
   "id": "d40c6018",
   "metadata": {},
   "outputs": [],
   "source": [
    "import tensorflow as tf\n",
    "from tensorflow import keras\n",
    "from tensorflow.keras.models import Sequential\n",
    "from tensorflow.keras.layers import Dense, Flatten"
   ]
  },
  {
   "cell_type": "code",
   "execution_count": 25,
   "id": "c9694a57",
   "metadata": {},
   "outputs": [],
   "source": [
    "from sklearn.utils.class_weight import compute_class_weight\n",
    "\n",
    "class_weights = compute_class_weight('balanced', classes=np.unique(y_train), y=y_train)\n",
    "class_weight_dict = {i: class_weights[i] for i in range(len(class_weights))}"
   ]
  },
  {
   "cell_type": "code",
   "execution_count": 40,
   "id": "ee853eac",
   "metadata": {},
   "outputs": [
    {
     "name": "stdout",
     "output_type": "stream",
     "text": [
      "Epoch 1/30\n",
      "2151/2151 [==============================] - 7s 3ms/step - loss: 0.6044 - accuracy: 0.6781 - val_loss: 0.5752 - val_accuracy: 0.6995\n",
      "Epoch 2/30\n",
      "2151/2151 [==============================] - 7s 3ms/step - loss: 0.5945 - accuracy: 0.6894 - val_loss: 0.5334 - val_accuracy: 0.7330\n",
      "Epoch 3/30\n",
      "2151/2151 [==============================] - 7s 3ms/step - loss: 0.5888 - accuracy: 0.6956 - val_loss: 0.6007 - val_accuracy: 0.6793\n",
      "Epoch 4/30\n",
      "2151/2151 [==============================] - 6s 3ms/step - loss: 0.5822 - accuracy: 0.7037 - val_loss: 0.6095 - val_accuracy: 0.7036\n",
      "Epoch 5/30\n",
      "2151/2151 [==============================] - 6s 3ms/step - loss: 0.5749 - accuracy: 0.7094 - val_loss: 0.5480 - val_accuracy: 0.7248\n",
      "Epoch 6/30\n",
      "2151/2151 [==============================] - 6s 3ms/step - loss: 0.5657 - accuracy: 0.7158 - val_loss: 0.5822 - val_accuracy: 0.7121\n",
      "Epoch 7/30\n",
      "2151/2151 [==============================] - 6s 3ms/step - loss: 0.5550 - accuracy: 0.7247 - val_loss: 0.6348 - val_accuracy: 0.6634\n",
      "Epoch 8/30\n",
      "2151/2151 [==============================] - 7s 3ms/step - loss: 0.5418 - accuracy: 0.7353 - val_loss: 0.5930 - val_accuracy: 0.6833\n",
      "Epoch 9/30\n",
      "2151/2151 [==============================] - 7s 3ms/step - loss: 0.5279 - accuracy: 0.7440 - val_loss: 0.5347 - val_accuracy: 0.7389\n",
      "Epoch 10/30\n",
      "2151/2151 [==============================] - 7s 3ms/step - loss: 0.5120 - accuracy: 0.7559 - val_loss: 0.5468 - val_accuracy: 0.7498\n",
      "Epoch 11/30\n",
      "2151/2151 [==============================] - 7s 3ms/step - loss: 0.4955 - accuracy: 0.7675 - val_loss: 0.5844 - val_accuracy: 0.7148\n",
      "Epoch 12/30\n",
      "2151/2151 [==============================] - 7s 3ms/step - loss: 0.4772 - accuracy: 0.7764 - val_loss: 0.5042 - val_accuracy: 0.7612\n",
      "Epoch 13/30\n",
      "2151/2151 [==============================] - 7s 3ms/step - loss: 0.4581 - accuracy: 0.7907 - val_loss: 0.5427 - val_accuracy: 0.7482\n",
      "Epoch 14/30\n",
      "2151/2151 [==============================] - 7s 3ms/step - loss: 0.4405 - accuracy: 0.8005 - val_loss: 0.4754 - val_accuracy: 0.7953\n",
      "Epoch 15/30\n",
      "2151/2151 [==============================] - 7s 3ms/step - loss: 0.4195 - accuracy: 0.8128 - val_loss: 0.5213 - val_accuracy: 0.7670\n",
      "Epoch 16/30\n",
      "2151/2151 [==============================] - 7s 3ms/step - loss: 0.3989 - accuracy: 0.8231 - val_loss: 0.4700 - val_accuracy: 0.7963\n",
      "Epoch 17/30\n",
      "2151/2151 [==============================] - 8s 4ms/step - loss: 0.3791 - accuracy: 0.8346 - val_loss: 0.4768 - val_accuracy: 0.8009\n",
      "Epoch 18/30\n",
      "2151/2151 [==============================] - 7s 3ms/step - loss: 0.3577 - accuracy: 0.8452 - val_loss: 0.5145 - val_accuracy: 0.7765\n",
      "Epoch 19/30\n",
      "2151/2151 [==============================] - 7s 3ms/step - loss: 0.3389 - accuracy: 0.8557 - val_loss: 0.5162 - val_accuracy: 0.7810\n",
      "Epoch 20/30\n",
      "2151/2151 [==============================] - 7s 3ms/step - loss: 0.3210 - accuracy: 0.8622 - val_loss: 0.4919 - val_accuracy: 0.7995\n",
      "Epoch 21/30\n",
      "2151/2151 [==============================] - 7s 3ms/step - loss: 0.3022 - accuracy: 0.8717 - val_loss: 0.4731 - val_accuracy: 0.8101\n",
      "Epoch 22/30\n",
      "2151/2151 [==============================] - 7s 3ms/step - loss: 0.2875 - accuracy: 0.8793 - val_loss: 0.4567 - val_accuracy: 0.8218\n",
      "Epoch 23/30\n",
      "2151/2151 [==============================] - 7s 3ms/step - loss: 0.2685 - accuracy: 0.8881 - val_loss: 0.4767 - val_accuracy: 0.8145\n",
      "Epoch 24/30\n",
      "2151/2151 [==============================] - 7s 3ms/step - loss: 0.2539 - accuracy: 0.8957 - val_loss: 0.5000 - val_accuracy: 0.8107\n",
      "Epoch 25/30\n",
      "2151/2151 [==============================] - 7s 3ms/step - loss: 0.2379 - accuracy: 0.9012 - val_loss: 0.5217 - val_accuracy: 0.8025\n",
      "Epoch 26/30\n",
      "2151/2151 [==============================] - 7s 3ms/step - loss: 0.2251 - accuracy: 0.9068 - val_loss: 0.5352 - val_accuracy: 0.7969\n",
      "Epoch 27/30\n",
      "2151/2151 [==============================] - 7s 3ms/step - loss: 0.2151 - accuracy: 0.9103 - val_loss: 0.4801 - val_accuracy: 0.8301\n",
      "Epoch 28/30\n",
      "2151/2151 [==============================] - 7s 3ms/step - loss: 0.1981 - accuracy: 0.9187 - val_loss: 0.4888 - val_accuracy: 0.8323\n",
      "Epoch 29/30\n",
      "2151/2151 [==============================] - 7s 3ms/step - loss: 0.1897 - accuracy: 0.9222 - val_loss: 0.4552 - val_accuracy: 0.8526\n",
      "Epoch 30/30\n",
      "2151/2151 [==============================] - 7s 3ms/step - loss: 0.1794 - accuracy: 0.9274 - val_loss: 0.5231 - val_accuracy: 0.8196\n"
     ]
    }
   ],
   "source": [
    "model = Sequential()\n",
    "\n",
    "model.add(Flatten())\n",
    "\n",
    "model.add(Dense(512, activation='relu', input_dim=X_train.shape[1]))\n",
    "model.add(Dense(256, activation='relu'))\n",
    "model.add(Dense(1, activation='sigmoid'))\n",
    "\n",
    "# Compile the model\n",
    "model.compile(loss='binary_crossentropy', optimizer=keras.optimizers.Adam(learning_rate=5e-4), metrics=['accuracy'])    \n",
    "\n",
    "epochs = 30\n",
    "batch_size = 32\n",
    "\n",
    "my_callbacks = [\n",
    "    tf.keras.callbacks.ModelCheckpoint(filepath='model.{epoch:02d}-{accuracy:.3f}.h5', save_best_only=True),\n",
    "]\n",
    "\n",
    "model.fit(t_train_df, y_train, class_weight=class_weight_dict, epochs=epochs, batch_size=batch_size, validation_split=0.1, callbacks=my_callbacks)\n",
    "\n",
    "mlp = model\n",
    "\n",
    "# Send the input data through the trained model to get the predictions\n",
    "predictions = mlp.predict(t_test_df)"
   ]
  },
  {
   "cell_type": "code",
   "execution_count": 41,
   "id": "c80d5de3",
   "metadata": {},
   "outputs": [
    {
     "name": "stdout",
     "output_type": "stream",
     "text": [
      "Model: \"sequential_4\"\n",
      "_________________________________________________________________\n",
      " Layer (type)                Output Shape              Param #   \n",
      "=================================================================\n",
      " flatten_4 (Flatten)         (None, 29)                0         \n",
      "                                                                 \n",
      " dense_12 (Dense)            (None, 512)               15360     \n",
      "                                                                 \n",
      " dense_13 (Dense)            (None, 256)               131328    \n",
      "                                                                 \n",
      " dense_14 (Dense)            (None, 1)                 257       \n",
      "                                                                 \n",
      "=================================================================\n",
      "Total params: 146,945\n",
      "Trainable params: 146,945\n",
      "Non-trainable params: 0\n",
      "_________________________________________________________________\n"
     ]
    }
   ],
   "source": [
    "mlp.summary()"
   ]
  },
  {
   "cell_type": "code",
   "execution_count": 42,
   "id": "4dd13d5f",
   "metadata": {},
   "outputs": [
    {
     "data": {
      "text/plain": [
       "array([[0.3972089 ],\n",
       "       [0.02900076],\n",
       "       [0.01767114],\n",
       "       ...,\n",
       "       [0.00558558],\n",
       "       [0.48856652],\n",
       "       [0.02778667]], dtype=float32)"
      ]
     },
     "execution_count": 42,
     "metadata": {},
     "output_type": "execute_result"
    }
   ],
   "source": [
    "predictions"
   ]
  },
  {
   "cell_type": "markdown",
   "id": "493d0fd3",
   "metadata": {},
   "source": [
    "## Classification Report"
   ]
  },
  {
   "cell_type": "code",
   "execution_count": 43,
   "id": "82e6322c",
   "metadata": {},
   "outputs": [
    {
     "name": "stdout",
     "output_type": "stream",
     "text": [
      "              precision    recall  f1-score   support\n",
      "\n",
      "         0.0       0.98      0.89      0.93     84050\n",
      "         1.0       0.53      0.88      0.66     11508\n",
      "\n",
      "    accuracy                           0.89     95558\n",
      "   macro avg       0.76      0.89      0.80     95558\n",
      "weighted avg       0.93      0.89      0.90     95558\n",
      "\n"
     ]
    }
   ],
   "source": [
    "# Extract the probabilities\n",
    "\n",
    "p_pred = predictions.flatten()\n",
    "\n",
    "# Extract the Class labels\n",
    "y_pred = np.where(p_pred > 0.5, 1, 0)\n",
    "\n",
    "print(classification_report(y_test, y_pred))\n"
   ]
  },
  {
   "cell_type": "markdown",
   "id": "feb2b75a",
   "metadata": {},
   "source": [
    "## Confusion Matrix"
   ]
  },
  {
   "cell_type": "code",
   "execution_count": 44,
   "id": "45781ab1",
   "metadata": {},
   "outputs": [
    {
     "data": {
      "image/png": "[encoded data removed]",
      "text/plain": [
       "<Figure size 640x480 with 2 Axes>"
      ]
     },
     "metadata": {},
     "output_type": "display_data"
    }
   ],
   "source": [
    "import seaborn as sns\n",
    "import matplotlib.pyplot as plt\n",
    "from sklearn.metrics import confusion_matrix\n",
    "\n",
    "matc=confusion_matrix(y_test, y_pred)\n",
    "\n",
    "ax = sns.heatmap(matc, annot=True, fmt='g')\n",
    "\n",
    "ax.set_title('Confusion Matrix!')\n",
    "ax.set_xlabel('Predicted Hospitalized')\n",
    "ax.set_ylabel('Actual Hospitalized')\n",
    "\n",
    "# Plot the confusion matrix\n",
    "\n",
    "plt.show()"
   ]
  },
  {
   "cell_type": "code",
   "execution_count": 45,
   "id": "7203137d",
   "metadata": {},
   "outputs": [
    {
     "name": "stdout",
     "output_type": "stream",
     "text": [
      "Train ROC AUC Score: 0.9349\n"
     ]
    }
   ],
   "source": [
    "roc_auc_train = roc_auc_score(y_true=y_test, y_score=predictions)\n",
    "\n",
    "print(f\"Train ROC AUC Score: {roc_auc_train:.4f}\") "
   ]
  },
  {
   "cell_type": "markdown",
   "id": "80637f76",
   "metadata": {},
   "source": [
    "## Model Test"
   ]
  },
  {
   "cell_type": "code",
   "execution_count": 47,
   "id": "31cce933",
   "metadata": {},
   "outputs": [],
   "source": [
    "# Assuming The Model Saved Has this name, Load For Predictions\n",
    "\n",
    "model = keras.models.load_model('model.29-0.922.h5')"
   ]
  },
  {
   "cell_type": "code",
   "execution_count": 50,
   "id": "4d33cbc8",
   "metadata": {},
   "outputs": [
    {
     "data": {
      "text/plain": [
       "29"
      ]
     },
     "execution_count": 50,
     "metadata": {},
     "output_type": "execute_result"
    }
   ],
   "source": [
    "import numpy as np\n",
    "\n",
    "input_data = [1,2,2,2,2,2,2,2,2,2,2,2,2,2,2,2,1,1,1,1,1,1,1,1,1,1,1,1,1]\n",
    "\n",
    "input_data = np.expand_dims(input_data, axis=0)  # Adding an extra dimension for batch size\n",
    "\n",
    "len(input_data[0]) \n"
   ]
  },
  {
   "cell_type": "code",
   "execution_count": 51,
   "id": "c4ee4ab5",
   "metadata": {},
   "outputs": [
    {
     "name": "stdout",
     "output_type": "stream",
     "text": [
      "[[0.94694316]]\n"
     ]
    }
   ],
   "source": [
    "pred_probability = model.predict(input_data)\n",
    "\n",
    "print(pred_probability)"
   ]
  },
  {
   "cell_type": "code",
   "execution_count": 53,
   "id": "fada3074",
   "metadata": {},
   "outputs": [],
   "source": [
    "threshold = 0.9\n",
    "if pred_probability >= threshold:\n",
    "    prediction = \"This person needs to be hospitalized next year.\"\n",
    "else:\n",
    "    prediction = \"This person does not need to be hospitalized\"\n",
    "\n",
    "score = (pred_probability*100)\n"
   ]
  },
  {
   "cell_type": "code",
   "execution_count": 54,
   "id": "dbbc5afa",
   "metadata": {},
   "outputs": [
    {
     "name": "stdout",
     "output_type": "stream",
     "text": [
      "This person needs to be hospitalized next year.\n",
      "Score is 94.69\n"
     ]
    }
   ],
   "source": [
    "print(prediction)\n",
    "\n",
    "score = np.around(score, 2)\n",
    "\n",
    "s = str(score)\n",
    "chars = [']', '['] \n",
    "result = s.translate(str.maketrans('', '', ''.join(chars)))\n",
    "print('Score is '+result)    "
   ]
  }
 ],
 "metadata": {
  "colab": {
   "provenance": []
  },
  "kernelspec": {
   "display_name": ".venv",
   "language": "python",
   "name": "python3"
  },
  "language_info": {
   "codemirror_mode": {
    "name": "ipython",
    "version": 3
   },
   "file_extension": ".py",
   "mimetype": "text/x-python",
   "name": "python",
   "nbconvert_exporter": "python",
   "pygments_lexer": "ipython3",
   "version": "3.10.5"
  }
 },
 "nbformat": 4,
 "nbformat_minor": 5
}

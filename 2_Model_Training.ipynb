{
 "cells": [
  {
   "cell_type": "markdown",
   "id": "8b8abcef",
   "metadata": {},
   "source": [
    "## Basic Training"
   ]
  },
  {
   "cell_type": "code",
   "execution_count": 1,
   "id": "OzQjTwlkUT0C",
   "metadata": {
    "executionInfo": {
     "elapsed": 2252,
     "status": "ok",
     "timestamp": 1670194396248,
     "user": {
      "displayName": "Jose Luis",
      "userId": "17952480099147442429"
     },
     "user_tz": 180
    },
    "id": "OzQjTwlkUT0C"
   },
   "outputs": [],
   "source": [
    "# Import libraries\n",
    "from sklearn.linear_model import LogisticRegression\n",
    "from sklearn.metrics import roc_auc_score\n",
    "from sklearn.ensemble import RandomForestClassifier\n",
    "from sklearn.metrics import confusion_matrix, accuracy_score, f1_score, precision_score, recall_score, classification_report\n",
    "\n",
    "import numpy as np\n",
    "import pandas as pd"
   ]
  },
  {
   "cell_type": "code",
   "execution_count": 39,
   "id": "c542cd1f",
   "metadata": {},
   "outputs": [],
   "source": [
    "hmhas = pd.read_csv('dataset/h_mas_train.csv')"
   ]
  },
  {
   "cell_type": "code",
   "execution_count": 40,
   "id": "f92b60a6",
   "metadata": {},
   "outputs": [],
   "source": [
    "hmhas = hmhas.drop('Unnamed: 0', axis=1)"
   ]
  },
  {
   "cell_type": "code",
   "execution_count": 41,
   "id": "7f67eade",
   "metadata": {},
   "outputs": [
    {
     "data": {
      "text/plain": [
       "Index(['cholst', 'mobila', 'nagi10', 'hrtatte', 'nagi8', 'iadlfour', 'push',\n",
       "       'bmi', 'walks', 'rxhrtat', 'grossa', 'walkr', 'rxdiabi', 'iadlfoura',\n",
       "       'hip_m', 'hhid', 'mobilsev', 'atotb', 'hhidc', 'fallinj', 'shopa',\n",
       "       'itot', 'agey', 'wtresp', 'rxhibp', 'ctot1m', 'atotf', 'hltc', 'weight',\n",
       "       'grossaa', 'adla_m', 'momage', 'height', 'bath', 'dadage', 'atoth',\n",
       "       'adlaa_m', 'shlt', 'ahous', 'hosp1y'],\n",
       "      dtype='object')"
      ]
     },
     "execution_count": 41,
     "metadata": {},
     "output_type": "execute_result"
    }
   ],
   "source": [
    "hmhas.columns"
   ]
  },
  {
   "cell_type": "markdown",
   "id": "4855bcfe",
   "metadata": {},
   "source": [
    "# Preprocessing"
   ]
  },
  {
   "cell_type": "code",
   "execution_count": 42,
   "id": "3ee7a00d",
   "metadata": {},
   "outputs": [],
   "source": [
    "df = hmhas\n",
    "\n",
    "from sklearn.model_selection import train_test_split\n",
    "\n",
    "X_train = df.drop(\"hosp1y\", axis=1)\n",
    "\n",
    "# Assign the 'target' column to y_train\n",
    "\n",
    "y_train = df[\"hosp1y\"]\n",
    "\n",
    "# Remove the 'target' column for test\n",
    "X_test = df.drop(\"hosp1y\", axis=1)\n",
    "\n",
    "# Assign the 'target' column to y_test\n",
    "y_test = df[\"hosp1y\"]\n",
    "\n",
    "# separate dataset into train and test\n",
    "X_train, X_val, y_train, y_val = train_test_split(X_train, y_train, test_size=0.2, random_state=42, shuffle=True)\n"
   ]
  },
  {
   "cell_type": "code",
   "execution_count": 43,
   "id": "9be4cbac",
   "metadata": {},
   "outputs": [],
   "source": [
    "#Drop Categorical :\n",
    "categorical_cols = X_train.select_dtypes(include=['object']).columns\n",
    "\n",
    "X_train = X_train.drop(categorical_cols, axis=1)\n",
    "X_test = X_test.drop(categorical_cols, axis=1)\n",
    "X_val = X_val.drop(categorical_cols, axis=1)"
   ]
  },
  {
   "cell_type": "code",
   "execution_count": 44,
   "id": "f6028913",
   "metadata": {},
   "outputs": [],
   "source": [
    "from sklearn.impute import SimpleImputer\n",
    "from sklearn.preprocessing import StandardScaler\n",
    "\n",
    "# Impute values for all columns with missing data\n",
    "imp_mean = SimpleImputer(missing_values=np.nan, strategy='most_frequent')\n",
    "imp_mean.fit(X_train)\n",
    "\n",
    "n_train_df = imp_mean.transform(X_train)\n",
    "t_val_df = imp_mean.transform(X_val)\n",
    "t_test_df = imp_mean.transform(X_test)\n",
    "\n",
    "# Scaling all Numerical features\n",
    "\n",
    "scaler = StandardScaler()\n",
    "scaler = scaler.fit(n_train_df)\n",
    "\n",
    "t_train_df = scaler.transform(n_train_df)\n",
    "t_val_df = scaler.transform(t_val_df)\n",
    "t_test_df = scaler.transform(t_test_df)\n"
   ]
  },
  {
   "cell_type": "code",
   "execution_count": 92,
   "id": "87b66cd4",
   "metadata": {},
   "outputs": [
    {
     "name": "stdout",
     "output_type": "stream",
     "text": [
      "CPU times: total: 1.44 s\n",
      "Wall time: 665 ms\n"
     ]
    },
    {
     "data": {
      "text/html": [
       "<style>#sk-container-id-7 {color: black;background-color: white;}#sk-container-id-7 pre{padding: 0;}#sk-container-id-7 div.sk-toggleable {background-color: white;}#sk-container-id-7 label.sk-toggleable__label {cursor: pointer;display: block;width: 100%;margin-bottom: 0;padding: 0.3em;box-sizing: border-box;text-align: center;}#sk-container-id-7 label.sk-toggleable__label-arrow:before {content: \"▸\";float: left;margin-right: 0.25em;color: #696969;}#sk-container-id-7 label.sk-toggleable__label-arrow:hover:before {color: black;}#sk-container-id-7 div.sk-estimator:hover label.sk-toggleable__label-arrow:before {color: black;}#sk-container-id-7 div.sk-toggleable__content {max-height: 0;max-width: 0;overflow: hidden;text-align: left;background-color: #f0f8ff;}#sk-container-id-7 div.sk-toggleable__content pre {margin: 0.2em;color: black;border-radius: 0.25em;background-color: #f0f8ff;}#sk-container-id-7 input.sk-toggleable__control:checked~div.sk-toggleable__content {max-height: 200px;max-width: 100%;overflow: auto;}#sk-container-id-7 input.sk-toggleable__control:checked~label.sk-toggleable__label-arrow:before {content: \"▾\";}#sk-container-id-7 div.sk-estimator input.sk-toggleable__control:checked~label.sk-toggleable__label {background-color: #d4ebff;}#sk-container-id-7 div.sk-label input.sk-toggleable__control:checked~label.sk-toggleable__label {background-color: #d4ebff;}#sk-container-id-7 input.sk-hidden--visually {border: 0;clip: rect(1px 1px 1px 1px);clip: rect(1px, 1px, 1px, 1px);height: 1px;margin: -1px;overflow: hidden;padding: 0;position: absolute;width: 1px;}#sk-container-id-7 div.sk-estimator {font-family: monospace;background-color: #f0f8ff;border: 1px dotted black;border-radius: 0.25em;box-sizing: border-box;margin-bottom: 0.5em;}#sk-container-id-7 div.sk-estimator:hover {background-color: #d4ebff;}#sk-container-id-7 div.sk-parallel-item::after {content: \"\";width: 100%;border-bottom: 1px solid gray;flex-grow: 1;}#sk-container-id-7 div.sk-label:hover label.sk-toggleable__label {background-color: #d4ebff;}#sk-container-id-7 div.sk-serial::before {content: \"\";position: absolute;border-left: 1px solid gray;box-sizing: border-box;top: 0;bottom: 0;left: 50%;z-index: 0;}#sk-container-id-7 div.sk-serial {display: flex;flex-direction: column;align-items: center;background-color: white;padding-right: 0.2em;padding-left: 0.2em;position: relative;}#sk-container-id-7 div.sk-item {position: relative;z-index: 1;}#sk-container-id-7 div.sk-parallel {display: flex;align-items: stretch;justify-content: center;background-color: white;position: relative;}#sk-container-id-7 div.sk-item::before, #sk-container-id-7 div.sk-parallel-item::before {content: \"\";position: absolute;border-left: 1px solid gray;box-sizing: border-box;top: 0;bottom: 0;left: 50%;z-index: -1;}#sk-container-id-7 div.sk-parallel-item {display: flex;flex-direction: column;z-index: 1;position: relative;background-color: white;}#sk-container-id-7 div.sk-parallel-item:first-child::after {align-self: flex-end;width: 50%;}#sk-container-id-7 div.sk-parallel-item:last-child::after {align-self: flex-start;width: 50%;}#sk-container-id-7 div.sk-parallel-item:only-child::after {width: 0;}#sk-container-id-7 div.sk-dashed-wrapped {border: 1px dashed gray;margin: 0 0.4em 0.5em 0.4em;box-sizing: border-box;padding-bottom: 0.4em;background-color: white;}#sk-container-id-7 div.sk-label label {font-family: monospace;font-weight: bold;display: inline-block;line-height: 1.2em;}#sk-container-id-7 div.sk-label-container {text-align: center;}#sk-container-id-7 div.sk-container {/* jupyter's `normalize.less` sets `[hidden] { display: none; }` but bootstrap.min.css set `[hidden] { display: none !important; }` so we also need the `!important` here to be able to override the default hidden behavior on the sphinx rendered scikit-learn.org. See: https://github.com/scikit-learn/scikit-learn/issues/21755 */display: inline-block !important;position: relative;}#sk-container-id-7 div.sk-text-repr-fallback {display: none;}</style><div id=\"sk-container-id-7\" class=\"sk-top-container\"><div class=\"sk-text-repr-fallback\"><pre>LogisticRegression(C=0.01)</pre><b>In a Jupyter environment, please rerun this cell to show the HTML representation or trust the notebook. <br />On GitHub, the HTML representation is unable to render, please try loading this page with nbviewer.org.</b></div><div class=\"sk-container\" hidden><div class=\"sk-item\"><div class=\"sk-estimator sk-toggleable\"><input class=\"sk-toggleable__control sk-hidden--visually\" id=\"sk-estimator-id-7\" type=\"checkbox\" checked><label for=\"sk-estimator-id-7\" class=\"sk-toggleable__label sk-toggleable__label-arrow\">LogisticRegression</label><div class=\"sk-toggleable__content\"><pre>LogisticRegression(C=0.01)</pre></div></div></div></div></div>"
      ],
      "text/plain": [
       "LogisticRegression(C=0.01)"
      ]
     },
     "execution_count": 92,
     "metadata": {},
     "output_type": "execute_result"
    }
   ],
   "source": [
    "%%time\n",
    "\n",
    "# This is an example code on how to:\n",
    "#   - Create and fit (train) a logistic regression\n",
    "#   - Assign to `log_reg` variable\n",
    "log_reg = None\n",
    "log_reg = LogisticRegression(C=0.01)\n",
    "log_reg.fit(t_train_df, y_train)\n"
   ]
  },
  {
   "cell_type": "code",
   "execution_count": 93,
   "id": "9e30a1cd",
   "metadata": {},
   "outputs": [],
   "source": [
    "log_reg_train = log_reg.predict_proba(t_train_df)[:, 1]"
   ]
  },
  {
   "cell_type": "code",
   "execution_count": 94,
   "id": "ddba38a7",
   "metadata": {},
   "outputs": [
    {
     "name": "stdout",
     "output_type": "stream",
     "text": [
      "Train ROC AUC Score: 0.7378\n"
     ]
    }
   ],
   "source": [
    "roc_auc_train = roc_auc_score(y_true=y_train, y_score=log_reg_train)\n",
    "\n",
    "print(f\"Train ROC AUC Score: {roc_auc_train:.4f}\") "
   ]
  },
  {
   "cell_type": "markdown",
   "id": "3805b945",
   "metadata": {},
   "source": [
    "# Multiple Training"
   ]
  },
  {
   "cell_type": "code",
   "execution_count": 48,
   "id": "59b98ee5",
   "metadata": {},
   "outputs": [],
   "source": [
    "import lightgbm as lgb"
   ]
  },
  {
   "cell_type": "code",
   "execution_count": 49,
   "id": "c958d7b3",
   "metadata": {},
   "outputs": [
    {
     "name": "stdout",
     "output_type": "stream",
     "text": [
      "Logistic Regression trained.\n",
      "      Random Forest trained.\n",
      "[LightGBM] [Info] Number of positive: 9248, number of negative: 67198\n",
      "[LightGBM] [Warning] Auto-choosing row-wise multi-threading, the overhead of testing was 0.011143 seconds.\n",
      "You can set `force_row_wise=true` to remove the overhead.\n",
      "And if memory is not enough, you can set `force_col_wise=true`.\n",
      "[LightGBM] [Info] Total Bins 3143\n",
      "[LightGBM] [Info] Number of data points in the train set: 76446, number of used features: 39\n",
      "[LightGBM] [Info] [binary:BoostFromScore]: pavg=0.120974 -> initscore=-1.983236\n",
      "[LightGBM] [Info] Start training from score -1.983236\n",
      "      LGBClassifier  trained.\n",
      "CPU times: total: 30.7 s\n",
      "Wall time: 30.6 s\n"
     ]
    }
   ],
   "source": [
    "%%time\n",
    "\n",
    "models = {\n",
    "    \"Logistic Regression\": LogisticRegression(C=0.001),\n",
    "    \"      Random Forest\": RandomForestClassifier(n_estimators=200, max_depth=10, random_state=42),\n",
    "    \"      LGBClassifier \": lgb.LGBMClassifier(learning_rate=0.2)\n",
    "}\n",
    "\n",
    "for name, model in models.items():\n",
    "    model.fit(t_train_df, y_train)\n",
    "    print(name + \" trained.\")"
   ]
  },
  {
   "cell_type": "markdown",
   "id": "d72804a3",
   "metadata": {},
   "source": [
    "# Results"
   ]
  },
  {
   "cell_type": "code",
   "execution_count": 50,
   "id": "c95e50a1",
   "metadata": {},
   "outputs": [
    {
     "name": "stdout",
     "output_type": "stream",
     "text": [
      "Logistic Regression Accuracy: 88.09%\n",
      "      Random Forest Accuracy: 89.26%\n",
      "      LGBClassifier  Accuracy: 90.14%\n"
     ]
    }
   ],
   "source": [
    "for name, model in models.items():\n",
    "    y_pred = model.predict(t_test_df)\n",
    "    acc = accuracy_score(y_test, y_pred)\n",
    "    print(name + \" Accuracy: {:.2f}%\".format(acc * 100))"
   ]
  },
  {
   "cell_type": "code",
   "execution_count": 51,
   "id": "bc5029a6",
   "metadata": {},
   "outputs": [
    {
     "name": "stdout",
     "output_type": "stream",
     "text": [
      "Logistic Regression F1-Score: 0.10617\n",
      "      Random Forest F1-Score: 0.19816\n",
      "      LGBClassifier  F1-Score: 0.33519\n"
     ]
    }
   ],
   "source": [
    "for name, model in models.items():\n",
    "    y_pred = model.predict(t_test_df)\n",
    "    f1 = f1_score(y_test, y_pred)\n",
    "    print(name + \" F1-Score: {:.5f}\".format(f1))"
   ]
  },
  {
   "cell_type": "markdown",
   "id": "e7221ff1",
   "metadata": {},
   "source": [
    "## Neural NetWork Training"
   ]
  },
  {
   "cell_type": "code",
   "execution_count": null,
   "id": "d40c6018",
   "metadata": {},
   "outputs": [],
   "source": [
    "import tensorflow as tf\n",
    "from tensorflow import keras\n",
    "from tensorflow.keras.models import Sequential\n",
    "from tensorflow.keras.layers import Dense, Flatten"
   ]
  },
  {
   "cell_type": "code",
   "execution_count": null,
   "id": "ee853eac",
   "metadata": {},
   "outputs": [],
   "source": [
    "model = Sequential()\n",
    "\n",
    "model.add(Flatten())\n",
    "\n",
    "model.add(Dense(512, activation='relu', input_dim=X_train.shape[1]))\n",
    "model.add(Dense(256, activation='relu'))\n",
    "model.add(Dense(1, activation='sigmoid'))\n",
    "\n",
    "# Compile the model\n",
    "model.compile(loss='binary_crossentropy', optimizer=keras.optimizers.Adam(learning_rate=5e-3), metrics=['accuracy'])    \n",
    "\n",
    "epochs = 30\n",
    "batch_size = 32\n",
    "\n",
    "my_callbacks = [\n",
    "    tf.keras.callbacks.EarlyStopping(patience=5, restore_best_weights=True,),\n",
    "    tf.keras.callbacks.ModelCheckpoint(filepath='model.{epoch:02d}-{accuracy:.3f}.h5', save_best_only=True),\n",
    "]\n",
    "\n",
    "model.fit(t_train_df, y_train, epochs=epochs, batch_size=batch_size, validation_split=0.1, callbacks=my_callbacks)\n",
    "\n",
    "mlp = model\n",
    "\n",
    "# Send the input data through the trained model to get the predictions\n",
    "predictions = mlp.predict(t_test_df)"
   ]
  },
  {
   "cell_type": "code",
   "execution_count": 79,
   "id": "4dd13d5f",
   "metadata": {},
   "outputs": [
    {
     "data": {
      "text/plain": [
       "(95558, 1)"
      ]
     },
     "execution_count": 79,
     "metadata": {},
     "output_type": "execute_result"
    }
   ],
   "source": [
    "predictions.shape"
   ]
  },
  {
   "cell_type": "markdown",
   "id": "493d0fd3",
   "metadata": {},
   "source": [
    "## Classification Report"
   ]
  },
  {
   "cell_type": "code",
   "execution_count": 80,
   "id": "82e6322c",
   "metadata": {},
   "outputs": [
    {
     "name": "stdout",
     "output_type": "stream",
     "text": [
      "              precision    recall  f1-score   support\n",
      "\n",
      "         0.0       0.91      0.99      0.95     84050\n",
      "         1.0       0.81      0.27      0.41     11508\n",
      "\n",
      "    accuracy                           0.91     95558\n",
      "   macro avg       0.86      0.63      0.68     95558\n",
      "weighted avg       0.90      0.91      0.88     95558\n",
      "\n"
     ]
    }
   ],
   "source": [
    "# Extract the probabilities\n",
    "\n",
    "p_pred = predictions.flatten()\n",
    "\n",
    "# Extract the Class labels\n",
    "y_pred = np.where(p_pred > 0.5, 1, 0)\n",
    "\n",
    "print(classification_report(y_test, y_pred))\n"
   ]
  },
  {
   "cell_type": "markdown",
   "id": "feb2b75a",
   "metadata": {},
   "source": [
    "## Confusion Matrix"
   ]
  },
  {
   "cell_type": "code",
   "execution_count": 81,
   "id": "45781ab1",
   "metadata": {},
   "outputs": [
    {
     "data": {
      "image/png": "[encoded data removed]",
      "text/plain": [
       "<Figure size 640x480 with 2 Axes>"
      ]
     },
     "metadata": {},
     "output_type": "display_data"
    }
   ],
   "source": [
    "import seaborn as sns\n",
    "import matplotlib.pyplot as plt\n",
    "from sklearn.metrics import confusion_matrix\n",
    "\n",
    "matc=confusion_matrix(y_test, y_pred)\n",
    "\n",
    "ax = sns.heatmap(matc, annot=True, fmt='g')\n",
    "\n",
    "ax.set_title('Confusion Matrix!')\n",
    "ax.set_xlabel('Predicted Hospitalized')\n",
    "ax.set_ylabel('Actual Hospitalized')\n",
    "\n",
    "# Plot the confusion matrix\n",
    "\n",
    "plt.show()"
   ]
  },
  {
   "cell_type": "code",
   "execution_count": 100,
   "id": "7203137d",
   "metadata": {},
   "outputs": [
    {
     "name": "stdout",
     "output_type": "stream",
     "text": [
      "Train ROC AUC Score: 0.8508\n"
     ]
    }
   ],
   "source": [
    "roc_auc_train = roc_auc_score(y_true=y_test, y_score=predictions)\n",
    "\n",
    "print(f\"Train ROC AUC Score: {roc_auc_train:.4f}\") "
   ]
  }
 ],
 "metadata": {
  "colab": {
   "provenance": []
  },
  "kernelspec": {
   "display_name": ".venv",
   "language": "python",
   "name": "python3"
  },
  "language_info": {
   "codemirror_mode": {
    "name": "ipython",
    "version": 3
   },
   "file_extension": ".py",
   "mimetype": "text/x-python",
   "name": "python",
   "nbconvert_exporter": "python",
   "pygments_lexer": "ipython3",
   "version": "3.10.5"
  }
 },
 "nbformat": 4,
 "nbformat_minor": 5
}

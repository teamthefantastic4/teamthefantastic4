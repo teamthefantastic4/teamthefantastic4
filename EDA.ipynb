{
 "cells": [
  {
   "cell_type": "markdown",
   "id": "8b8abcef",
   "metadata": {},
   "source": [
    "### Exploratory Data Analysis"
   ]
  },
  {
   "cell_type": "code",
   "execution_count": 1,
   "id": "OzQjTwlkUT0C",
   "metadata": {
    "executionInfo": {
     "elapsed": 2252,
     "status": "ok",
     "timestamp": 1670194396248,
     "user": {
      "displayName": "Jose Luis",
      "userId": "17952480099147442429"
     },
     "user_tz": 180
    },
    "id": "OzQjTwlkUT0C"
   },
   "outputs": [],
   "source": [
    "# Import libraries\n",
    "from sklearn.ensemble import RandomForestClassifier\n",
    "from sklearn.linear_model import LogisticRegression\n",
    "from sklearn.metrics import roc_auc_score\n",
    "from sklearn.model_selection import RandomizedSearchCV\n",
    "\n",
    "import numpy as np\n",
    "import pandas as pd\n",
    "import matplotlib.pyplot as plt\n",
    "import seaborn as sns"
   ]
  },
  {
   "cell_type": "code",
   "execution_count": 2,
   "id": "707851eb",
   "metadata": {},
   "outputs": [
    {
     "name": "stdout",
     "output_type": "stream",
     "text": [
      "Warning: column count mismatch (282 + 287 != 5255)\n",
      "\n"
     ]
    }
   ],
   "source": [
    "hmhas = pd.read_sas(filepath_or_buffer='dataset/H_MHAS_c.sas7bdat')"
   ]
  },
  {
   "cell_type": "code",
   "execution_count": 3,
   "id": "f92b60a6",
   "metadata": {},
   "outputs": [
    {
     "data": {
      "text/html": [
       "<div>\n",
       "<style scoped>\n",
       "    .dataframe tbody tr th:only-of-type {\n",
       "        vertical-align: middle;\n",
       "    }\n",
       "\n",
       "    .dataframe tbody tr th {\n",
       "        vertical-align: top;\n",
       "    }\n",
       "\n",
       "    .dataframe thead th {\n",
       "        text-align: right;\n",
       "    }\n",
       "</style>\n",
       "<table border=\"1\" class=\"dataframe\">\n",
       "  <thead>\n",
       "    <tr style=\"text-align: right;\">\n",
       "      <th></th>\n",
       "      <th>codent01</th>\n",
       "      <th>codent03</th>\n",
       "      <th>ps3</th>\n",
       "      <th>ent2</th>\n",
       "      <th>np</th>\n",
       "      <th>unhhidnp</th>\n",
       "      <th>rahhidnp</th>\n",
       "      <th>tipent_01</th>\n",
       "      <th>tipent_03</th>\n",
       "      <th>tipent_12</th>\n",
       "      <th>...</th>\n",
       "      <th>s4satlife</th>\n",
       "      <th>s5satlife</th>\n",
       "      <th>r3satlifez</th>\n",
       "      <th>r4satlifez</th>\n",
       "      <th>r5satlifez</th>\n",
       "      <th>s3satlifez</th>\n",
       "      <th>s4satlifez</th>\n",
       "      <th>s5satlifez</th>\n",
       "      <th>r2cantril</th>\n",
       "      <th>s2cantril</th>\n",
       "    </tr>\n",
       "  </thead>\n",
       "  <tbody>\n",
       "    <tr>\n",
       "      <th>0</th>\n",
       "      <td>1.0</td>\n",
       "      <td>1.0</td>\n",
       "      <td>1.0</td>\n",
       "      <td>1.0</td>\n",
       "      <td>10.0</td>\n",
       "      <td>110.0</td>\n",
       "      <td>b'110'</td>\n",
       "      <td>12.0</td>\n",
       "      <td>12.0</td>\n",
       "      <td>1.0</td>\n",
       "      <td>...</td>\n",
       "      <td>NaN</td>\n",
       "      <td>NaN</td>\n",
       "      <td>1.510731</td>\n",
       "      <td>NaN</td>\n",
       "      <td>NaN</td>\n",
       "      <td>1.510731</td>\n",
       "      <td>NaN</td>\n",
       "      <td>NaN</td>\n",
       "      <td>1.0</td>\n",
       "      <td>NaN</td>\n",
       "    </tr>\n",
       "    <tr>\n",
       "      <th>1</th>\n",
       "      <td>2.0</td>\n",
       "      <td>2.0</td>\n",
       "      <td>2.0</td>\n",
       "      <td>2.0</td>\n",
       "      <td>20.0</td>\n",
       "      <td>120.0</td>\n",
       "      <td>b'120'</td>\n",
       "      <td>11.0</td>\n",
       "      <td>11.0</td>\n",
       "      <td>1.0</td>\n",
       "      <td>...</td>\n",
       "      <td>NaN</td>\n",
       "      <td>NaN</td>\n",
       "      <td>1.510731</td>\n",
       "      <td>-0.387025</td>\n",
       "      <td>-0.393398</td>\n",
       "      <td>1.510731</td>\n",
       "      <td>NaN</td>\n",
       "      <td>NaN</td>\n",
       "      <td>NaN</td>\n",
       "      <td>1.0</td>\n",
       "    </tr>\n",
       "    <tr>\n",
       "      <th>2</th>\n",
       "      <td>1.0</td>\n",
       "      <td>1.0</td>\n",
       "      <td>1.0</td>\n",
       "      <td>1.0</td>\n",
       "      <td>10.0</td>\n",
       "      <td>210.0</td>\n",
       "      <td>b'210'</td>\n",
       "      <td>11.0</td>\n",
       "      <td>22.0</td>\n",
       "      <td>1.0</td>\n",
       "      <td>...</td>\n",
       "      <td>NaN</td>\n",
       "      <td>NaN</td>\n",
       "      <td>-0.397267</td>\n",
       "      <td>-0.387025</td>\n",
       "      <td>-0.393398</td>\n",
       "      <td>NaN</td>\n",
       "      <td>NaN</td>\n",
       "      <td>NaN</td>\n",
       "      <td>NaN</td>\n",
       "      <td>5.0</td>\n",
       "    </tr>\n",
       "    <tr>\n",
       "      <th>3</th>\n",
       "      <td>2.0</td>\n",
       "      <td>2.0</td>\n",
       "      <td>2.0</td>\n",
       "      <td>2.0</td>\n",
       "      <td>20.0</td>\n",
       "      <td>220.0</td>\n",
       "      <td>b'220'</td>\n",
       "      <td>12.0</td>\n",
       "      <td>11.0</td>\n",
       "      <td>3.0</td>\n",
       "      <td>...</td>\n",
       "      <td>1.0</td>\n",
       "      <td>NaN</td>\n",
       "      <td>NaN</td>\n",
       "      <td>NaN</td>\n",
       "      <td>NaN</td>\n",
       "      <td>-0.397267</td>\n",
       "      <td>-0.387025</td>\n",
       "      <td>NaN</td>\n",
       "      <td>5.0</td>\n",
       "      <td>NaN</td>\n",
       "    </tr>\n",
       "    <tr>\n",
       "      <th>4</th>\n",
       "      <td>1.0</td>\n",
       "      <td>1.0</td>\n",
       "      <td>1.0</td>\n",
       "      <td>1.0</td>\n",
       "      <td>10.0</td>\n",
       "      <td>310.0</td>\n",
       "      <td>b'310'</td>\n",
       "      <td>11.0</td>\n",
       "      <td>11.0</td>\n",
       "      <td>1.0</td>\n",
       "      <td>...</td>\n",
       "      <td>1.0</td>\n",
       "      <td>1.0</td>\n",
       "      <td>-0.397267</td>\n",
       "      <td>-0.387025</td>\n",
       "      <td>-0.393398</td>\n",
       "      <td>-0.397267</td>\n",
       "      <td>-0.387025</td>\n",
       "      <td>-0.393398</td>\n",
       "      <td>1.0</td>\n",
       "      <td>NaN</td>\n",
       "    </tr>\n",
       "    <tr>\n",
       "      <th>...</th>\n",
       "      <td>...</td>\n",
       "      <td>...</td>\n",
       "      <td>...</td>\n",
       "      <td>...</td>\n",
       "      <td>...</td>\n",
       "      <td>...</td>\n",
       "      <td>...</td>\n",
       "      <td>...</td>\n",
       "      <td>...</td>\n",
       "      <td>...</td>\n",
       "      <td>...</td>\n",
       "      <td>...</td>\n",
       "      <td>...</td>\n",
       "      <td>...</td>\n",
       "      <td>...</td>\n",
       "      <td>...</td>\n",
       "      <td>...</td>\n",
       "      <td>...</td>\n",
       "      <td>...</td>\n",
       "      <td>...</td>\n",
       "      <td>...</td>\n",
       "    </tr>\n",
       "    <tr>\n",
       "      <th>26834</th>\n",
       "      <td>NaN</td>\n",
       "      <td>NaN</td>\n",
       "      <td>NaN</td>\n",
       "      <td>NaN</td>\n",
       "      <td>10.0</td>\n",
       "      <td>2021610.0</td>\n",
       "      <td>b'2021610'</td>\n",
       "      <td>NaN</td>\n",
       "      <td>NaN</td>\n",
       "      <td>NaN</td>\n",
       "      <td>...</td>\n",
       "      <td>NaN</td>\n",
       "      <td>NaN</td>\n",
       "      <td>NaN</td>\n",
       "      <td>NaN</td>\n",
       "      <td>-0.393398</td>\n",
       "      <td>NaN</td>\n",
       "      <td>NaN</td>\n",
       "      <td>NaN</td>\n",
       "      <td>NaN</td>\n",
       "      <td>NaN</td>\n",
       "    </tr>\n",
       "    <tr>\n",
       "      <th>26835</th>\n",
       "      <td>NaN</td>\n",
       "      <td>NaN</td>\n",
       "      <td>NaN</td>\n",
       "      <td>NaN</td>\n",
       "      <td>20.0</td>\n",
       "      <td>2021620.0</td>\n",
       "      <td>b'2021620'</td>\n",
       "      <td>NaN</td>\n",
       "      <td>NaN</td>\n",
       "      <td>NaN</td>\n",
       "      <td>...</td>\n",
       "      <td>NaN</td>\n",
       "      <td>NaN</td>\n",
       "      <td>NaN</td>\n",
       "      <td>NaN</td>\n",
       "      <td>-0.393398</td>\n",
       "      <td>NaN</td>\n",
       "      <td>NaN</td>\n",
       "      <td>NaN</td>\n",
       "      <td>NaN</td>\n",
       "      <td>NaN</td>\n",
       "    </tr>\n",
       "    <tr>\n",
       "      <th>26836</th>\n",
       "      <td>NaN</td>\n",
       "      <td>NaN</td>\n",
       "      <td>NaN</td>\n",
       "      <td>NaN</td>\n",
       "      <td>10.0</td>\n",
       "      <td>2021710.0</td>\n",
       "      <td>b'2021710'</td>\n",
       "      <td>NaN</td>\n",
       "      <td>NaN</td>\n",
       "      <td>NaN</td>\n",
       "      <td>...</td>\n",
       "      <td>NaN</td>\n",
       "      <td>NaN</td>\n",
       "      <td>NaN</td>\n",
       "      <td>NaN</td>\n",
       "      <td>-0.393398</td>\n",
       "      <td>NaN</td>\n",
       "      <td>NaN</td>\n",
       "      <td>NaN</td>\n",
       "      <td>NaN</td>\n",
       "      <td>NaN</td>\n",
       "    </tr>\n",
       "    <tr>\n",
       "      <th>26837</th>\n",
       "      <td>NaN</td>\n",
       "      <td>NaN</td>\n",
       "      <td>NaN</td>\n",
       "      <td>NaN</td>\n",
       "      <td>10.0</td>\n",
       "      <td>2021810.0</td>\n",
       "      <td>b'2021810'</td>\n",
       "      <td>NaN</td>\n",
       "      <td>NaN</td>\n",
       "      <td>NaN</td>\n",
       "      <td>...</td>\n",
       "      <td>NaN</td>\n",
       "      <td>NaN</td>\n",
       "      <td>NaN</td>\n",
       "      <td>NaN</td>\n",
       "      <td>-0.393398</td>\n",
       "      <td>NaN</td>\n",
       "      <td>NaN</td>\n",
       "      <td>NaN</td>\n",
       "      <td>NaN</td>\n",
       "      <td>NaN</td>\n",
       "    </tr>\n",
       "    <tr>\n",
       "      <th>26838</th>\n",
       "      <td>NaN</td>\n",
       "      <td>NaN</td>\n",
       "      <td>NaN</td>\n",
       "      <td>NaN</td>\n",
       "      <td>20.0</td>\n",
       "      <td>2021820.0</td>\n",
       "      <td>b'2021820'</td>\n",
       "      <td>NaN</td>\n",
       "      <td>NaN</td>\n",
       "      <td>NaN</td>\n",
       "      <td>...</td>\n",
       "      <td>NaN</td>\n",
       "      <td>NaN</td>\n",
       "      <td>NaN</td>\n",
       "      <td>NaN</td>\n",
       "      <td>-0.393398</td>\n",
       "      <td>NaN</td>\n",
       "      <td>NaN</td>\n",
       "      <td>NaN</td>\n",
       "      <td>NaN</td>\n",
       "      <td>NaN</td>\n",
       "    </tr>\n",
       "  </tbody>\n",
       "</table>\n",
       "<p>26839 rows × 5255 columns</p>\n",
       "</div>"
      ],
      "text/plain": [
       "       codent01  codent03  ps3  ent2    np   unhhidnp    rahhidnp  tipent_01  \\\n",
       "0           1.0       1.0  1.0   1.0  10.0      110.0      b'110'       12.0   \n",
       "1           2.0       2.0  2.0   2.0  20.0      120.0      b'120'       11.0   \n",
       "2           1.0       1.0  1.0   1.0  10.0      210.0      b'210'       11.0   \n",
       "3           2.0       2.0  2.0   2.0  20.0      220.0      b'220'       12.0   \n",
       "4           1.0       1.0  1.0   1.0  10.0      310.0      b'310'       11.0   \n",
       "...         ...       ...  ...   ...   ...        ...         ...        ...   \n",
       "26834       NaN       NaN  NaN   NaN  10.0  2021610.0  b'2021610'        NaN   \n",
       "26835       NaN       NaN  NaN   NaN  20.0  2021620.0  b'2021620'        NaN   \n",
       "26836       NaN       NaN  NaN   NaN  10.0  2021710.0  b'2021710'        NaN   \n",
       "26837       NaN       NaN  NaN   NaN  10.0  2021810.0  b'2021810'        NaN   \n",
       "26838       NaN       NaN  NaN   NaN  20.0  2021820.0  b'2021820'        NaN   \n",
       "\n",
       "       tipent_03  tipent_12  ...  s4satlife  s5satlife  r3satlifez  \\\n",
       "0           12.0        1.0  ...        NaN        NaN    1.510731   \n",
       "1           11.0        1.0  ...        NaN        NaN    1.510731   \n",
       "2           22.0        1.0  ...        NaN        NaN   -0.397267   \n",
       "3           11.0        3.0  ...        1.0        NaN         NaN   \n",
       "4           11.0        1.0  ...        1.0        1.0   -0.397267   \n",
       "...          ...        ...  ...        ...        ...         ...   \n",
       "26834        NaN        NaN  ...        NaN        NaN         NaN   \n",
       "26835        NaN        NaN  ...        NaN        NaN         NaN   \n",
       "26836        NaN        NaN  ...        NaN        NaN         NaN   \n",
       "26837        NaN        NaN  ...        NaN        NaN         NaN   \n",
       "26838        NaN        NaN  ...        NaN        NaN         NaN   \n",
       "\n",
       "       r4satlifez  r5satlifez  s3satlifez  s4satlifez  s5satlifez  r2cantril  \\\n",
       "0             NaN         NaN    1.510731         NaN         NaN        1.0   \n",
       "1       -0.387025   -0.393398    1.510731         NaN         NaN        NaN   \n",
       "2       -0.387025   -0.393398         NaN         NaN         NaN        NaN   \n",
       "3             NaN         NaN   -0.397267   -0.387025         NaN        5.0   \n",
       "4       -0.387025   -0.393398   -0.397267   -0.387025   -0.393398        1.0   \n",
       "...           ...         ...         ...         ...         ...        ...   \n",
       "26834         NaN   -0.393398         NaN         NaN         NaN        NaN   \n",
       "26835         NaN   -0.393398         NaN         NaN         NaN        NaN   \n",
       "26836         NaN   -0.393398         NaN         NaN         NaN        NaN   \n",
       "26837         NaN   -0.393398         NaN         NaN         NaN        NaN   \n",
       "26838         NaN   -0.393398         NaN         NaN         NaN        NaN   \n",
       "\n",
       "      s2cantril  \n",
       "0           NaN  \n",
       "1           1.0  \n",
       "2           5.0  \n",
       "3           NaN  \n",
       "4           NaN  \n",
       "...         ...  \n",
       "26834       NaN  \n",
       "26835       NaN  \n",
       "26836       NaN  \n",
       "26837       NaN  \n",
       "26838       NaN  \n",
       "\n",
       "[26839 rows x 5255 columns]"
      ]
     },
     "execution_count": 3,
     "metadata": {},
     "output_type": "execute_result"
    }
   ],
   "source": [
    "hmhas"
   ]
  },
  {
   "cell_type": "code",
   "execution_count": 4,
   "id": "4a82f972",
   "metadata": {},
   "outputs": [
    {
     "name": "stdout",
     "output_type": "stream",
     "text": [
      "      Total  Percentage\n",
      "np                     \n",
      "10.0  16428   61.209434\n",
      "11.0    228    0.849510\n",
      "12.0      4    0.014904\n",
      "13.0      5    0.018630\n",
      "14.0    105    0.391222\n",
      "15.0      2    0.007452\n",
      "20.0   9979   37.180968\n",
      "21.0     53    0.197474\n",
      "22.0      1    0.003726\n",
      "24.0     30    0.111778\n",
      "34.0      2    0.007452\n",
      "40.0      1    0.003726\n",
      "44.0      1    0.003726\n"
     ]
    },
    {
     "data": {
      "text/plain": [
       "<AxesSubplot: xlabel='Total', ylabel='Percentage'>"
      ]
     },
     "execution_count": 4,
     "metadata": {},
     "output_type": "execute_result"
    },
    {
     "data": {
      "image/png": "[encoded data removed]",
      "text/plain": [
       "<Figure size 640x480 with 1 Axes>"
      ]
     },
     "metadata": {},
     "output_type": "display_data"
    }
   ],
   "source": [
    "# Show distribution of target variable \n",
    "\n",
    "df = hmhas.reset_index().groupby(['np']).size().to_frame('Total')\n",
    "\n",
    "df['Percentage'] = df['Total'].div(df['Total'].sum()).mul(100)\n",
    "\n",
    "print(df)\n",
    "\n",
    "sns.barplot(x='Total', y='Percentage', data=df)"
   ]
  },
  {
   "cell_type": "code",
   "execution_count": 19,
   "id": "aa812add",
   "metadata": {},
   "outputs": [
    {
     "data": {
      "text/plain": [
       "<function matplotlib.pyplot.show(close=None, block=None)>"
      ]
     },
     "execution_count": 19,
     "metadata": {},
     "output_type": "execute_result"
    },
    {
     "data": {
      "image/png": "[encoded data removed]",
      "text/plain": [
       "<Figure size 1200x800 with 1 Axes>"
      ]
     },
     "metadata": {},
     "output_type": "display_data"
    },
    {
     "data": {
      "image/png": "[encoded data removed]",
      "text/plain": [
       "<Figure size 1200x800 with 1 Axes>"
      ]
     },
     "metadata": {},
     "output_type": "display_data"
    }
   ],
   "source": [
    "# Use MatPlotLib to Plot For Example = Age at Interview For Wave 1.\n",
    "\n",
    "df = hmhas.groupby(['r1agey']).size().to_frame('Total_Interview_1').reset_index('r1agey')\n",
    "\n",
    "plt.figure(figsize=(12,8))\n",
    "\n",
    "ax =sns.barplot(x='Total_Interview_1', y='r1agey', data=df)\n",
    "\n",
    "plt.show\n",
    "\n",
    "# Use MatPlotLib to Plot For Example = Age at Interview For Wave 3.\n",
    "\n",
    "df = hmhas.groupby(['r3agey']).size().to_frame('Total_Interview_3').reset_index('r3agey')\n",
    "\n",
    "plt.figure(figsize=(12,8))\n",
    "\n",
    "ax =sns.barplot(x='Total_Interview_3', y='r3agey', data=df)\n",
    "\n",
    "plt.show\n"
   ]
  },
  {
   "cell_type": "code",
   "execution_count": 26,
   "id": "4eb51d53",
   "metadata": {},
   "outputs": [
    {
     "name": "stdout",
     "output_type": "stream",
     "text": [
      "         Total  Percentage\n",
      "h1rural                   \n",
      "0.0      11225   41.823466\n",
      "1.0       3961   14.758374\n"
     ]
    },
    {
     "data": {
      "text/plain": [
       "<AxesSubplot: xlabel='Total', ylabel='Percentage'>"
      ]
     },
     "execution_count": 26,
     "metadata": {},
     "output_type": "execute_result"
    },
    {
     "data": {
      "image/png": "[encoded data removed]",
      "text/plain": [
       "<Figure size 640x480 with 1 Axes>"
      ]
     },
     "metadata": {},
     "output_type": "display_data"
    }
   ],
   "source": [
    "### Residence Plot If Rural = 0 or Urban = 1 To Understand Conditions\n",
    "\n",
    "df = hmhas.reset_index().groupby(['h1rural']).size().to_frame('Total')\n",
    "\n",
    "df['Percentage'] = (df['Total']/len(hmhas))*100\n",
    "\n",
    "df1 = df.sort_values(by='Percentage', ascending=False)\n",
    "\n",
    "print(df1)\n",
    "\n",
    "sns.barplot(x='Total', y='Percentage', data=df)\n"
   ]
  },
  {
   "cell_type": "code",
   "execution_count": 28,
   "id": "31af499f",
   "metadata": {},
   "outputs": [
    {
     "name": "stdout",
     "output_type": "stream",
     "text": [
      "   r1shlt  TotRepHealth\n",
      "0     1.0           271\n",
      "1     2.0           627\n",
      "2     3.0          4495\n",
      "3     4.0          6585\n",
      "4     5.0          2169\n"
     ]
    },
    {
     "data": {
      "text/plain": [
       "<AxesSubplot: xlabel='TotRepHealth', ylabel='r1shlt'>"
      ]
     },
     "execution_count": 28,
     "metadata": {},
     "output_type": "execute_result"
    },
    {
     "data": {
      "image/png": "[encoded data removed]",
      "text/plain": [
       "<Figure size 640x480 with 1 Axes>"
      ]
     },
     "metadata": {},
     "output_type": "display_data"
    }
   ],
   "source": [
    "### Self-Report of Health \n",
    "# | 1.Excellent| 2.Very good | 3.Good | 4.Fair | 5.Poor\n",
    "\n",
    "df = hmhas.groupby(['r1shlt']).size().to_frame('TotRepHealth').reset_index('r1shlt')\n",
    "\n",
    "print(df)\n",
    "\n",
    "sns.barplot(x='TotRepHealth', y='r1shlt', data=df)\n"
   ]
  },
  {
   "cell_type": "code",
   "execution_count": 29,
   "id": "9237bdf8",
   "metadata": {},
   "outputs": [
    {
     "name": "stdout",
     "output_type": "stream",
     "text": [
      "   r1walkra  TotDifToWalk\n",
      "0       0.0         14182\n",
      "1       1.0           784\n"
     ]
    },
    {
     "data": {
      "text/plain": [
       "<AxesSubplot: xlabel='TotDifToWalk', ylabel='r1walkra'>"
      ]
     },
     "execution_count": 29,
     "metadata": {},
     "output_type": "execute_result"
    },
    {
     "data": {
      "image/png": "[encoded data removed]",
      "text/plain": [
       "<Figure size 640x480 with 1 Axes>"
      ]
     },
     "metadata": {},
     "output_type": "display_data"
    }
   ],
   "source": [
    "### Plot Of Activities of Daily Living - Difficulty-Walking across room\n",
    "\n",
    "#  0 = No | 1 = Yes\n",
    "\n",
    "df = hmhas.groupby(['r1walkra']).size().to_frame('TotDifToWalk').reset_index('r1walkra')\n",
    "\n",
    "print(df)\n",
    "\n",
    "sns.barplot(x='r1walkra', y='TotDifToWalk', data=df)\n"
   ]
  },
  {
   "cell_type": "code",
   "execution_count": 36,
   "id": "7a47b926",
   "metadata": {},
   "outputs": [],
   "source": [
    "import pickle"
   ]
  },
  {
   "cell_type": "code",
   "execution_count": 61,
   "id": "3ee7a00d",
   "metadata": {},
   "outputs": [],
   "source": [
    "df = hmhas\n",
    "\n",
    "from sklearn.model_selection import train_test_split\n",
    "\n",
    "X=df.drop(labels=['np'], axis=1)\n",
    "y=df['np']\n",
    "\n",
    "# separate dataset into train and test\n",
    "X_train, X_test, y_train, y_test = train_test_split(\n",
    "    X,\n",
    "    y, \n",
    "    test_size=0.2,\n",
    "    random_state=42, shuffle=True)"
   ]
  },
  {
   "cell_type": "code",
   "execution_count": null,
   "id": "261f8c92",
   "metadata": {},
   "outputs": [],
   "source": [
    "#Using Pearson Correlation\n",
    "corrmat = X_train.corr(numeric_only=True) \n",
    "fig, ax = plt.subplots()\n",
    "fig.set_size_inches(11,11)\n",
    "sns.heatmap(corrmat, annot=True)"
   ]
  },
  {
   "cell_type": "code",
   "execution_count": null,
   "id": "3ae37010",
   "metadata": {},
   "outputs": [],
   "source": [
    "def correlation(dataset, threshold):\n",
    "    col_corr = set()  # Set of all the names of correlated columns\n",
    "    corr_matrix = dataset.corr()\n",
    "    for i in range(len(corr_matrix.columns)):\n",
    "        for j in range(i):\n",
    "#            if abs(corr_matrix.iloc[i, j]) > threshold: # we are interested in absolute coeff value\n",
    "            if corr_matrix.iloc[i, j] > threshold: # we are interested in absolute coeff value\n",
    "                colname = corr_matrix.columns[i]  # getting the name of column\n",
    "                col_corr.add(colname)\n",
    "    return col_corr\n",
    "\n",
    "corr_features = correlation(X_train, 0.7)\n",
    "len(set(corr_features))"
   ]
  },
  {
   "cell_type": "code",
   "execution_count": null,
   "id": "98e03327",
   "metadata": {},
   "outputs": [],
   "source": [
    "# Remove the non correlation data\n",
    "X_train = X_train.drop(corr_features,axis=1)"
   ]
  },
  {
   "cell_type": "code",
   "execution_count": null,
   "id": "99c00585",
   "metadata": {},
   "outputs": [],
   "source": [
    "# Save correlation data as a pickle file if needed\n",
    "with open('dataset/corr_features.csv', 'wb') as f:\n",
    "   pickle.dump(X_train, f)"
   ]
  },
  {
   "cell_type": "code",
   "execution_count": 62,
   "id": "b09bc785",
   "metadata": {},
   "outputs": [],
   "source": [
    "# Load the correlation data as pickle file if needed\n",
    "with open('dataset/corr_features.csv', 'rb') as f:\n",
    "   X_train = pickle.load(f)"
   ]
  },
  {
   "cell_type": "code",
   "execution_count": 63,
   "id": "9be4cbac",
   "metadata": {},
   "outputs": [],
   "source": [
    "# Now, with the Correlation Data...\n",
    "# Find the Features For Categorical\n",
    "\n",
    "onehot_features = X_train.select_dtypes(include=[\"object\"]).nunique() > 2\n",
    "onehot_columns = onehot_features[onehot_features].index.tolist()"
   ]
  },
  {
   "cell_type": "code",
   "execution_count": 64,
   "id": "d22cab07",
   "metadata": {},
   "outputs": [
    {
     "data": {
      "text/plain": [
       "['rahhidnp', 'h1hhidc', 'h2hhidc', 'h3hhidc', 'h4hhidc', 'h5hhidc', 'acthog']"
      ]
     },
     "execution_count": 64,
     "metadata": {},
     "output_type": "execute_result"
    }
   ],
   "source": [
    "onehot_columns"
   ]
  },
  {
   "cell_type": "code",
   "execution_count": 65,
   "id": "8514e34f",
   "metadata": {},
   "outputs": [],
   "source": [
    "# Removing Categorical\n",
    "# Only Impute Numerical Because the Categorical and Ordinal in this case don't matter\n",
    "# and make the data to big\n",
    "\n",
    "n_train_df = X_train.drop(onehot_columns,axis=1)"
   ]
  },
  {
   "cell_type": "code",
   "execution_count": 68,
   "id": "f6028913",
   "metadata": {},
   "outputs": [],
   "source": [
    "from sklearn.impute import SimpleImputer\n",
    "from sklearn.preprocessing import StandardScaler\n",
    "\n",
    "# Impute values for all columns with missing data\n",
    "imp_mean = SimpleImputer(missing_values=np.nan, strategy='mean')\n",
    "imp_mean.fit(n_train_df)\n",
    "\n",
    "n_train_df = imp_mean.transform(n_train_df)\n",
    "\n",
    "# Scaling all Numerical features\n",
    "\n",
    "scaler = StandardScaler()\n",
    "scaler = scaler.fit(n_train_df)\n",
    "\n",
    "t_train_df = scaler.transform(n_train_df)\n"
   ]
  },
  {
   "cell_type": "code",
   "execution_count": 69,
   "id": "71218caa",
   "metadata": {},
   "outputs": [
    {
     "data": {
      "text/plain": [
       "array([[-6.09761309e-16,  1.59422869e+00,  0.00000000e+00, ...,\n",
       "         1.32508026e-15,  7.65954550e-16,  0.00000000e+00],\n",
       "       [-9.94235187e-01,  6.22955612e-02, -2.30569812e-02, ...,\n",
       "         1.32508026e-15,  9.36462952e-01, -1.09577250e+00],\n",
       "       [-9.94235187e-01,  6.08609990e-02,  4.48748037e+00, ...,\n",
       "         1.32508026e-15,  9.36462952e-01,  4.29730529e-01],\n",
       "       ...,\n",
       "       [ 1.75188562e+00, -4.60943077e-01, -5.24227798e-01, ...,\n",
       "        -2.26029418e+00,  9.36462952e-01, -5.87271492e-01],\n",
       "       [-9.94235187e-01, -3.37947299e-01, -2.30569812e-02, ...,\n",
       "         7.23521302e-01, -2.51308968e+00, -7.87704813e-02],\n",
       "       [-9.94235187e-01, -1.34662386e+00, -5.24227798e-01, ...,\n",
       "         7.23521302e-01,  9.36462952e-01, -5.87271492e-01]])"
      ]
     },
     "execution_count": 69,
     "metadata": {},
     "output_type": "execute_result"
    }
   ],
   "source": [
    "t_train_df"
   ]
  },
  {
   "cell_type": "code",
   "execution_count": 153,
   "id": "4adc7e93",
   "metadata": {},
   "outputs": [],
   "source": [
    "from sklearn.decomposition import PCA\n",
    "from sklearn.pipeline import Pipeline\n",
    "\n",
    "# Create a PCA object with X components\n",
    "pca = PCA(n_components=1368, svd_solver='full')\n",
    "\n",
    "# Preprocess all the data\n",
    "# Create a pipeline with PCA\n",
    "\n",
    "pipe = Pipeline(\n",
    "    steps=[('pca', pca),]\n",
    ")\n",
    "\n",
    "# Fit the pipeline to your data and transform it\n",
    "reduced_data = pipe.fit_transform(t_train_df)"
   ]
  },
  {
   "cell_type": "code",
   "execution_count": 154,
   "id": "5eadd548",
   "metadata": {},
   "outputs": [
    {
     "data": {
      "text/plain": [
       "array([[  1.79926583,   0.36750279,  -1.03606187, ...,  -0.23543263,\n",
       "         -0.20498471,   0.16726739],\n",
       "       [ -6.92355383,   3.09184894,  -2.73173793, ...,  -0.1312668 ,\n",
       "         -0.3033577 ,   0.77131719],\n",
       "       [ -1.21108947,  -1.99749697,   2.7193297 , ...,   0.8097387 ,\n",
       "         -1.10148411,  -0.17415651],\n",
       "       ...,\n",
       "       [  2.51391219, -11.18235687,  -2.44188253, ...,  -0.06016992,\n",
       "         -0.65442294,  -0.81086844],\n",
       "       [ -4.46038466,   3.44666217,   2.65089228, ...,  -1.45388011,\n",
       "          1.18340686,  -1.24689873],\n",
       "       [  1.34242099,  14.93081364,   7.72470925, ...,  -1.64605497,\n",
       "         -0.57030208,   0.0153937 ]])"
      ]
     },
     "execution_count": 154,
     "metadata": {},
     "output_type": "execute_result"
    }
   ],
   "source": [
    "reduced_data"
   ]
  },
  {
   "cell_type": "code",
   "execution_count": 155,
   "id": "c5cf619b",
   "metadata": {},
   "outputs": [
    {
     "data": {
      "text/plain": [
       "(21471, 1368)"
      ]
     },
     "execution_count": 155,
     "metadata": {},
     "output_type": "execute_result"
    }
   ],
   "source": [
    "reduced_data.shape"
   ]
  },
  {
   "cell_type": "code",
   "execution_count": 156,
   "id": "73137221",
   "metadata": {},
   "outputs": [
    {
     "name": "stdout",
     "output_type": "stream",
     "text": [
      "CPU times: total: 1min 32s\n",
      "Wall time: 1min 40s\n"
     ]
    },
    {
     "data": {
      "text/html": [
       "<style>#sk-container-id-17 {color: black;background-color: white;}#sk-container-id-17 pre{padding: 0;}#sk-container-id-17 div.sk-toggleable {background-color: white;}#sk-container-id-17 label.sk-toggleable__label {cursor: pointer;display: block;width: 100%;margin-bottom: 0;padding: 0.3em;box-sizing: border-box;text-align: center;}#sk-container-id-17 label.sk-toggleable__label-arrow:before {content: \"▸\";float: left;margin-right: 0.25em;color: #696969;}#sk-container-id-17 label.sk-toggleable__label-arrow:hover:before {color: black;}#sk-container-id-17 div.sk-estimator:hover label.sk-toggleable__label-arrow:before {color: black;}#sk-container-id-17 div.sk-toggleable__content {max-height: 0;max-width: 0;overflow: hidden;text-align: left;background-color: #f0f8ff;}#sk-container-id-17 div.sk-toggleable__content pre {margin: 0.2em;color: black;border-radius: 0.25em;background-color: #f0f8ff;}#sk-container-id-17 input.sk-toggleable__control:checked~div.sk-toggleable__content {max-height: 200px;max-width: 100%;overflow: auto;}#sk-container-id-17 input.sk-toggleable__control:checked~label.sk-toggleable__label-arrow:before {content: \"▾\";}#sk-container-id-17 div.sk-estimator input.sk-toggleable__control:checked~label.sk-toggleable__label {background-color: #d4ebff;}#sk-container-id-17 div.sk-label input.sk-toggleable__control:checked~label.sk-toggleable__label {background-color: #d4ebff;}#sk-container-id-17 input.sk-hidden--visually {border: 0;clip: rect(1px 1px 1px 1px);clip: rect(1px, 1px, 1px, 1px);height: 1px;margin: -1px;overflow: hidden;padding: 0;position: absolute;width: 1px;}#sk-container-id-17 div.sk-estimator {font-family: monospace;background-color: #f0f8ff;border: 1px dotted black;border-radius: 0.25em;box-sizing: border-box;margin-bottom: 0.5em;}#sk-container-id-17 div.sk-estimator:hover {background-color: #d4ebff;}#sk-container-id-17 div.sk-parallel-item::after {content: \"\";width: 100%;border-bottom: 1px solid gray;flex-grow: 1;}#sk-container-id-17 div.sk-label:hover label.sk-toggleable__label {background-color: #d4ebff;}#sk-container-id-17 div.sk-serial::before {content: \"\";position: absolute;border-left: 1px solid gray;box-sizing: border-box;top: 0;bottom: 0;left: 50%;z-index: 0;}#sk-container-id-17 div.sk-serial {display: flex;flex-direction: column;align-items: center;background-color: white;padding-right: 0.2em;padding-left: 0.2em;position: relative;}#sk-container-id-17 div.sk-item {position: relative;z-index: 1;}#sk-container-id-17 div.sk-parallel {display: flex;align-items: stretch;justify-content: center;background-color: white;position: relative;}#sk-container-id-17 div.sk-item::before, #sk-container-id-17 div.sk-parallel-item::before {content: \"\";position: absolute;border-left: 1px solid gray;box-sizing: border-box;top: 0;bottom: 0;left: 50%;z-index: -1;}#sk-container-id-17 div.sk-parallel-item {display: flex;flex-direction: column;z-index: 1;position: relative;background-color: white;}#sk-container-id-17 div.sk-parallel-item:first-child::after {align-self: flex-end;width: 50%;}#sk-container-id-17 div.sk-parallel-item:last-child::after {align-self: flex-start;width: 50%;}#sk-container-id-17 div.sk-parallel-item:only-child::after {width: 0;}#sk-container-id-17 div.sk-dashed-wrapped {border: 1px dashed gray;margin: 0 0.4em 0.5em 0.4em;box-sizing: border-box;padding-bottom: 0.4em;background-color: white;}#sk-container-id-17 div.sk-label label {font-family: monospace;font-weight: bold;display: inline-block;line-height: 1.2em;}#sk-container-id-17 div.sk-label-container {text-align: center;}#sk-container-id-17 div.sk-container {/* jupyter's `normalize.less` sets `[hidden] { display: none; }` but bootstrap.min.css set `[hidden] { display: none !important; }` so we also need the `!important` here to be able to override the default hidden behavior on the sphinx rendered scikit-learn.org. See: https://github.com/scikit-learn/scikit-learn/issues/21755 */display: inline-block !important;position: relative;}#sk-container-id-17 div.sk-text-repr-fallback {display: none;}</style><div id=\"sk-container-id-17\" class=\"sk-top-container\"><div class=\"sk-text-repr-fallback\"><pre>LogisticRegression(C=0.01, solver=&#x27;liblinear&#x27;)</pre><b>In a Jupyter environment, please rerun this cell to show the HTML representation or trust the notebook. <br />On GitHub, the HTML representation is unable to render, please try loading this page with nbviewer.org.</b></div><div class=\"sk-container\" hidden><div class=\"sk-item\"><div class=\"sk-estimator sk-toggleable\"><input class=\"sk-toggleable__control sk-hidden--visually\" id=\"sk-estimator-id-17\" type=\"checkbox\" checked><label for=\"sk-estimator-id-17\" class=\"sk-toggleable__label sk-toggleable__label-arrow\">LogisticRegression</label><div class=\"sk-toggleable__content\"><pre>LogisticRegression(C=0.01, solver=&#x27;liblinear&#x27;)</pre></div></div></div></div></div>"
      ],
      "text/plain": [
       "LogisticRegression(C=0.01, solver='liblinear')"
      ]
     },
     "execution_count": 156,
     "metadata": {},
     "output_type": "execute_result"
    }
   ],
   "source": [
    "%%time\n",
    "\n",
    "# This is an example code on how to:\n",
    "#   - Create and fit (train) a logistic regression\n",
    "#   - Assign to `log_reg` variable\n",
    "log_reg = None\n",
    "log_reg = LogisticRegression(C=0.01, solver=\"liblinear\")\n",
    "log_reg.fit(reduced_data, y_train)\n"
   ]
  },
  {
   "cell_type": "code",
   "execution_count": 157,
   "id": "45f7b94d",
   "metadata": {},
   "outputs": [],
   "source": [
    "log_reg_train = log_reg.predict_proba(reduced_data)"
   ]
  },
  {
   "cell_type": "code",
   "execution_count": 158,
   "id": "b240d986",
   "metadata": {},
   "outputs": [
    {
     "data": {
      "text/plain": [
       "(21471, 13)"
      ]
     },
     "execution_count": 158,
     "metadata": {},
     "output_type": "execute_result"
    }
   ],
   "source": [
    "log_reg_train.shape"
   ]
  },
  {
   "cell_type": "code",
   "execution_count": 159,
   "id": "06e1c3e5",
   "metadata": {},
   "outputs": [
    {
     "name": "stdout",
     "output_type": "stream",
     "text": [
      "Train ROC AUC Score: 0.9314\n"
     ]
    }
   ],
   "source": [
    "roc_auc_train = roc_auc_score(y_true=y_train, y_score=log_reg_train, multi_class='ovr')\n",
    "\n",
    "print(f\"Train ROC AUC Score: {roc_auc_train:.4f}\") "
   ]
  }
 ],
 "metadata": {
  "colab": {
   "provenance": []
  },
  "kernelspec": {
   "display_name": ".venv",
   "language": "python",
   "name": "python3"
  },
  "language_info": {
   "codemirror_mode": {
    "name": "ipython",
    "version": 3
   },
   "file_extension": ".py",
   "mimetype": "text/x-python",
   "name": "python",
   "nbconvert_exporter": "python",
   "pygments_lexer": "ipython3",
   "version": "3.10.5"
  }
 },
 "nbformat": 4,
 "nbformat_minor": 5
}
